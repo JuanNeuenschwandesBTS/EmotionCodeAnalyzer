{
  "cells": [
    {
      "cell_type": "markdown",
      "id": "aa2ab3d0",
      "metadata": {
        "id": "aa2ab3d0"
      },
      "source": [
        "## Fine Tuning Bert Model"
      ]
    },
    {
      "cell_type": "code",
      "source": [
        "%ls"
      ],
      "metadata": {
        "colab": {
          "base_uri": "https://localhost:8080/"
        },
        "id": "vaX3R54VRAC9",
        "outputId": "1e81b6a3-af29-4bbe-b9de-70f248987c21"
      },
      "id": "vaX3R54VRAC9",
      "execution_count": null,
      "outputs": [
        {
          "output_type": "stream",
          "name": "stdout",
          "text": [
            "\u001b[0m\u001b[01;34msample_data\u001b[0m/\n"
          ]
        }
      ]
    },
    {
      "cell_type": "code",
      "source": [
        "from google.colab import drive\n",
        "drive.mount('/content/drive')"
      ],
      "metadata": {
        "id": "AYfBcqXiRI7h",
        "colab": {
          "base_uri": "https://localhost:8080/"
        },
        "outputId": "df04d656-534d-49f4-be53-652b7db0b060"
      },
      "id": "AYfBcqXiRI7h",
      "execution_count": null,
      "outputs": [
        {
          "output_type": "stream",
          "name": "stdout",
          "text": [
            "Mounted at /content/drive\n"
          ]
        }
      ]
    },
    {
      "cell_type": "code",
      "source": [
        "%cd /content/drive/MyDrive/Colab Notebooks/Bert/EmotionCodeAnalyzer/Notebook/Bert"
      ],
      "metadata": {
        "colab": {
          "base_uri": "https://localhost:8080/"
        },
        "id": "HlkJFnkaSZ3f",
        "outputId": "87b1eb81-fa04-4fe9-9e64-adca6333fdcd"
      },
      "id": "HlkJFnkaSZ3f",
      "execution_count": null,
      "outputs": [
        {
          "output_type": "stream",
          "name": "stdout",
          "text": [
            "/content/drive/MyDrive/Colab Notebooks/Bert/EmotionCodeAnalyzer/Notebook/Bert\n"
          ]
        }
      ]
    },
    {
      "cell_type": "code",
      "source": [
        "%ls"
      ],
      "metadata": {
        "colab": {
          "base_uri": "https://localhost:8080/"
        },
        "id": "Q2PzMMVBSfHX",
        "outputId": "ba64c500-31b4-4750-fb0e-546c44fee8c3"
      },
      "id": "Q2PzMMVBSfHX",
      "execution_count": null,
      "outputs": [
        {
          "output_type": "stream",
          "name": "stdout",
          "text": [
            " BertFineTuningModel.ipynb   data_loader.py   \u001b[0m\u001b[01;34m__pycache__\u001b[0m/\n",
            " best_model_state.bin        model.py        ' sentiment_model.pt'\n"
          ]
        }
      ]
    },
    {
      "cell_type": "code",
      "source": [
        "# !pip install transformers"
      ],
      "metadata": {
        "id": "ki06lNkPSkHN"
      },
      "id": "ki06lNkPSkHN",
      "execution_count": null,
      "outputs": []
    },
    {
      "cell_type": "markdown",
      "id": "dfab5fbe",
      "metadata": {
        "id": "dfab5fbe"
      },
      "source": []
    },
    {
      "cell_type": "code",
      "execution_count": null,
      "id": "8e13953e",
      "metadata": {
        "id": "8e13953e"
      },
      "outputs": [],
      "source": [
        "from transformers import BertTokenizer, BertModel,get_linear_schedule_with_warmup"
      ]
    },
    {
      "cell_type": "code",
      "execution_count": null,
      "id": "8db6fcfa",
      "metadata": {
        "id": "8db6fcfa"
      },
      "outputs": [],
      "source": [
        "import pandas as pd\n",
        "import glob\n",
        "import seaborn as sns\n",
        "import torch\n",
        "from torch.utils.data import Dataset, DataLoader\n",
        "import torch.nn.functional as F\n",
        "from torch import nn, optim\n",
        "import pandas as pd\n",
        "import numpy as np\n",
        "import matplotlib.pyplot as plt\n",
        "\n",
        "\n",
        "from sklearn.model_selection import train_test_split\n",
        "from sklearn.metrics import confusion_matrix, classification_report\n",
        "\n",
        "from collections import defaultdict\n",
        "from textwrap import wrap\n",
        "from transformers import DataCollatorWithPadding\n",
        "from transformers import logging\n",
        "logging.set_verbosity_error()\n"
      ]
    },
    {
      "cell_type": "code",
      "execution_count": null,
      "id": "f1475379",
      "metadata": {
        "id": "f1475379"
      },
      "outputs": [],
      "source": [
        "from data_loader import TextDataset\n",
        "from model import SentimentClassifierModel, train_bert_model, eval_bert_model, get_bert_predictions"
      ]
    },
    {
      "cell_type": "code",
      "execution_count": null,
      "id": "9a206a87",
      "metadata": {
        "id": "9a206a87",
        "colab": {
          "base_uri": "https://localhost:8080/",
          "height": 249,
          "referenced_widgets": [
            "a083558ae4794cf384202054d2bf1e14",
            "d918cd68a6ed487d9588825e5bf3b7d9",
            "c8c31cb25f58432d8e104019bfecb394",
            "6ff184bcf9ae4e279d589e52365155b7",
            "249d02344402430691c85476281e1dee",
            "89ac2e16ab474dc9bd4e55fb534983e9",
            "6f9847e976b947ac97f81d29b2e664bd",
            "d5ae36683a9e4a09ac02f72e1e1e6130",
            "0d71cac64bea4cdabb9d4a147b2da860",
            "c5e20772748443699bb369fcaec3f291",
            "f17b4055e0a549588ffbe48160e57386",
            "f68886e99a8642ff82037a84af1dfdd9",
            "fabcae2c2cc14fd7b455a50362647810",
            "ef4727a603a24f98a197a1c4381a3788",
            "202568f80c2242c79325f2c9ef4ee259",
            "deb37ebc3a65418baf071cb153802987",
            "a1d668ddf39f49ea8e82d17f4517575f",
            "8b3a7478d6e34081935a6c0c2a311207",
            "8a3cdab8cc604f36938977b7cba14327",
            "63d8918d16724a2fa27585b4bdca1fdb",
            "8783157d9e4a45949395ea7b87aa294c",
            "52f4a7b45da34424a5e8485ebc53eca7",
            "cf0c676b772947b6baa79cac84f57647",
            "f13b0a01bcf1448687ef6e7a13d07fad",
            "f7da5ede5cad48099b2c644ec59af8da",
            "918dea6506184b419f211fd3f396d877",
            "1b5f3770d1234830ab45ffbcfc4a20d2",
            "b326f0c57f57467db358fb5715c4c360",
            "78de40591d3e4c50aa0a8445995c6480",
            "17b5c45e12d348439c6a68cdae7b6e68",
            "8ba4d0f3a785436f91f951c51ed74386",
            "e2caada3f1134a55a1234f870ff70d20",
            "6a0b0923ede646c09dd7ba1fb7e7f1c5",
            "910a971651ba48abbd60826fb17b1b45",
            "d9a04989101c456ba692bcc83a219df4",
            "647fc2b71406440288642328a159fb4b",
            "011734cb88804a88baf923a556964820",
            "7f15d25502ce4b7cbc80eea33589dbb7",
            "4e67ce33b5f2464ea42d60b6e19b3cc3",
            "cacd93f55b5245389d030d1f47423796",
            "6a0f170097f245329fe58d32f10c6e15",
            "a529b69aa29040debe66b1cda78f33ac",
            "0613b5c8e1594b0ba9133dae4f3f7ae0",
            "b11fb3a7bc164192986053bf3cfa77b4"
          ]
        },
        "outputId": "d515c6a5-0402-4220-fc72-3c365da1cc43"
      },
      "outputs": [
        {
          "output_type": "stream",
          "name": "stderr",
          "text": [
            "/usr/local/lib/python3.10/dist-packages/huggingface_hub/utils/_token.py:88: UserWarning: \n",
            "The secret `HF_TOKEN` does not exist in your Colab secrets.\n",
            "To authenticate with the Hugging Face Hub, create a token in your settings tab (https://huggingface.co/settings/tokens), set it as secret in your Google Colab and restart your session.\n",
            "You will be able to reuse this secret in all of your notebooks.\n",
            "Please note that authentication is recommended but still optional to access public models or datasets.\n",
            "  warnings.warn(\n"
          ]
        },
        {
          "output_type": "display_data",
          "data": {
            "text/plain": [
              "tokenizer_config.json:   0%|          | 0.00/48.0 [00:00<?, ?B/s]"
            ],
            "application/vnd.jupyter.widget-view+json": {
              "version_major": 2,
              "version_minor": 0,
              "model_id": "a083558ae4794cf384202054d2bf1e14"
            }
          },
          "metadata": {}
        },
        {
          "output_type": "display_data",
          "data": {
            "text/plain": [
              "vocab.txt:   0%|          | 0.00/232k [00:00<?, ?B/s]"
            ],
            "application/vnd.jupyter.widget-view+json": {
              "version_major": 2,
              "version_minor": 0,
              "model_id": "f68886e99a8642ff82037a84af1dfdd9"
            }
          },
          "metadata": {}
        },
        {
          "output_type": "display_data",
          "data": {
            "text/plain": [
              "tokenizer.json:   0%|          | 0.00/466k [00:00<?, ?B/s]"
            ],
            "application/vnd.jupyter.widget-view+json": {
              "version_major": 2,
              "version_minor": 0,
              "model_id": "cf0c676b772947b6baa79cac84f57647"
            }
          },
          "metadata": {}
        },
        {
          "output_type": "display_data",
          "data": {
            "text/plain": [
              "config.json:   0%|          | 0.00/570 [00:00<?, ?B/s]"
            ],
            "application/vnd.jupyter.widget-view+json": {
              "version_major": 2,
              "version_minor": 0,
              "model_id": "910a971651ba48abbd60826fb17b1b45"
            }
          },
          "metadata": {}
        }
      ],
      "source": [
        "pre_trained_model_ckpt = \"bert-base-uncased\"\n",
        "tokenizer = BertTokenizer.from_pretrained(pre_trained_model_ckpt)\n",
        "collator = DataCollatorWithPadding(tokenizer=tokenizer, padding=\"longest\")"
      ]
    },
    {
      "cell_type": "code",
      "execution_count": null,
      "id": "30c28347",
      "metadata": {
        "id": "30c28347"
      },
      "outputs": [],
      "source": [
        "RANDOM_SEED = 42\n",
        "MAX_LEN = 512\n",
        "BATCH_SIZE = 64"
      ]
    },
    {
      "cell_type": "code",
      "execution_count": null,
      "id": "f132f78c",
      "metadata": {
        "id": "f132f78c"
      },
      "outputs": [],
      "source": [
        "np.random.seed(RANDOM_SEED)\n",
        "torch.manual_seed(RANDOM_SEED)\n",
        "device = torch.device(\"cuda:0\" if torch.cuda.is_available() else \"cpu\")"
      ]
    },
    {
      "cell_type": "code",
      "execution_count": null,
      "id": "7bc9dbe6",
      "metadata": {
        "id": "7bc9dbe6"
      },
      "outputs": [],
      "source": [
        "file_path = '../../Data/Prepared/CleanDatasets/'"
      ]
    },
    {
      "cell_type": "code",
      "execution_count": null,
      "id": "2cbb2fdc",
      "metadata": {
        "id": "2cbb2fdc"
      },
      "outputs": [],
      "source": [
        "files = glob.glob(f'{file_path}*.csv')"
      ]
    },
    {
      "cell_type": "code",
      "execution_count": null,
      "id": "abcd9103",
      "metadata": {
        "id": "abcd9103",
        "outputId": "1c0c7d6e-de52-4888-fcfe-3033f80a9da9",
        "colab": {
          "base_uri": "https://localhost:8080/"
        }
      },
      "outputs": [
        {
          "output_type": "execute_result",
          "data": {
            "text/plain": [
              "['../../Data/Prepared/CleanDatasets/Tweet_valid_clean.csv',\n",
              " '../../Data/Prepared/CleanDatasets/Tweet_train_clean.csv',\n",
              " '../../Data/Prepared/CleanDatasets/fin_phrase_bank_clean.csv',\n",
              " '../../Data/Prepared/CleanDatasets/financial_news_info.csv']"
            ]
          },
          "metadata": {},
          "execution_count": 13
        }
      ],
      "source": [
        "files"
      ]
    },
    {
      "cell_type": "code",
      "execution_count": null,
      "id": "f736ad56",
      "metadata": {
        "id": "f736ad56"
      },
      "outputs": [],
      "source": [
        "df_train = pd.read_csv('../../Data/Prepared/CleanDatasets/Tweet_train_clean.csv')"
      ]
    },
    {
      "cell_type": "code",
      "execution_count": null,
      "id": "af3e3268",
      "metadata": {
        "id": "af3e3268"
      },
      "outputs": [],
      "source": [
        "df_valid = pd.read_csv('../../Data/Prepared/CleanDatasets/Tweet_valid_clean.csv')"
      ]
    },
    {
      "cell_type": "code",
      "execution_count": null,
      "id": "d9ab16fb",
      "metadata": {
        "id": "d9ab16fb"
      },
      "outputs": [],
      "source": [
        "df_val, df_test = train_test_split(df_valid, test_size = 0.2, random_state = RANDOM_SEED)"
      ]
    },
    {
      "cell_type": "code",
      "execution_count": null,
      "id": "d76cbbc5",
      "metadata": {
        "id": "d76cbbc5",
        "outputId": "ae979459-3dce-4a3c-b5dd-a186d0aafdee",
        "colab": {
          "base_uri": "https://localhost:8080/",
          "height": 206
        }
      },
      "outputs": [
        {
          "output_type": "execute_result",
          "data": {
            "text/plain": [
              "                                                text  label  \\\n",
              "0  Here are Thursday's biggest analyst calls: App...      0   \n",
              "1  Buy Las Vegas Sands as travel to Singapore bui...      0   \n",
              "2  Piper Sandler downgrades DocuSign to sell, cit...      0   \n",
              "3  Analysts react to Tesla's latest earnings, bre...      0   \n",
              "4  Netflix and its peers are set for a ‘return to...      0   \n",
              "\n",
              "                                          clean_text           topic  \n",
              "0  thursday biggest analyst call apple amazon tes...  Analyst Update  \n",
              "1  buy la vega sand travel singapore build well f...  Analyst Update  \n",
              "2  piper sandler downgrade docusign sell citing e...  Analyst Update  \n",
              "3  analyst react tesla latest earnings break next...  Analyst Update  \n",
              "4  netflix peer set return growth analyst say giv...  Analyst Update  "
            ],
            "text/html": [
              "\n",
              "  <div id=\"df-f81157c9-50a6-41bc-9371-66dcd4f9928e\" class=\"colab-df-container\">\n",
              "    <div>\n",
              "<style scoped>\n",
              "    .dataframe tbody tr th:only-of-type {\n",
              "        vertical-align: middle;\n",
              "    }\n",
              "\n",
              "    .dataframe tbody tr th {\n",
              "        vertical-align: top;\n",
              "    }\n",
              "\n",
              "    .dataframe thead th {\n",
              "        text-align: right;\n",
              "    }\n",
              "</style>\n",
              "<table border=\"1\" class=\"dataframe\">\n",
              "  <thead>\n",
              "    <tr style=\"text-align: right;\">\n",
              "      <th></th>\n",
              "      <th>text</th>\n",
              "      <th>label</th>\n",
              "      <th>clean_text</th>\n",
              "      <th>topic</th>\n",
              "    </tr>\n",
              "  </thead>\n",
              "  <tbody>\n",
              "    <tr>\n",
              "      <th>0</th>\n",
              "      <td>Here are Thursday's biggest analyst calls: App...</td>\n",
              "      <td>0</td>\n",
              "      <td>thursday biggest analyst call apple amazon tes...</td>\n",
              "      <td>Analyst Update</td>\n",
              "    </tr>\n",
              "    <tr>\n",
              "      <th>1</th>\n",
              "      <td>Buy Las Vegas Sands as travel to Singapore bui...</td>\n",
              "      <td>0</td>\n",
              "      <td>buy la vega sand travel singapore build well f...</td>\n",
              "      <td>Analyst Update</td>\n",
              "    </tr>\n",
              "    <tr>\n",
              "      <th>2</th>\n",
              "      <td>Piper Sandler downgrades DocuSign to sell, cit...</td>\n",
              "      <td>0</td>\n",
              "      <td>piper sandler downgrade docusign sell citing e...</td>\n",
              "      <td>Analyst Update</td>\n",
              "    </tr>\n",
              "    <tr>\n",
              "      <th>3</th>\n",
              "      <td>Analysts react to Tesla's latest earnings, bre...</td>\n",
              "      <td>0</td>\n",
              "      <td>analyst react tesla latest earnings break next...</td>\n",
              "      <td>Analyst Update</td>\n",
              "    </tr>\n",
              "    <tr>\n",
              "      <th>4</th>\n",
              "      <td>Netflix and its peers are set for a ‘return to...</td>\n",
              "      <td>0</td>\n",
              "      <td>netflix peer set return growth analyst say giv...</td>\n",
              "      <td>Analyst Update</td>\n",
              "    </tr>\n",
              "  </tbody>\n",
              "</table>\n",
              "</div>\n",
              "    <div class=\"colab-df-buttons\">\n",
              "\n",
              "  <div class=\"colab-df-container\">\n",
              "    <button class=\"colab-df-convert\" onclick=\"convertToInteractive('df-f81157c9-50a6-41bc-9371-66dcd4f9928e')\"\n",
              "            title=\"Convert this dataframe to an interactive table.\"\n",
              "            style=\"display:none;\">\n",
              "\n",
              "  <svg xmlns=\"http://www.w3.org/2000/svg\" height=\"24px\" viewBox=\"0 -960 960 960\">\n",
              "    <path d=\"M120-120v-720h720v720H120Zm60-500h600v-160H180v160Zm220 220h160v-160H400v160Zm0 220h160v-160H400v160ZM180-400h160v-160H180v160Zm440 0h160v-160H620v160ZM180-180h160v-160H180v160Zm440 0h160v-160H620v160Z\"/>\n",
              "  </svg>\n",
              "    </button>\n",
              "\n",
              "  <style>\n",
              "    .colab-df-container {\n",
              "      display:flex;\n",
              "      gap: 12px;\n",
              "    }\n",
              "\n",
              "    .colab-df-convert {\n",
              "      background-color: #E8F0FE;\n",
              "      border: none;\n",
              "      border-radius: 50%;\n",
              "      cursor: pointer;\n",
              "      display: none;\n",
              "      fill: #1967D2;\n",
              "      height: 32px;\n",
              "      padding: 0 0 0 0;\n",
              "      width: 32px;\n",
              "    }\n",
              "\n",
              "    .colab-df-convert:hover {\n",
              "      background-color: #E2EBFA;\n",
              "      box-shadow: 0px 1px 2px rgba(60, 64, 67, 0.3), 0px 1px 3px 1px rgba(60, 64, 67, 0.15);\n",
              "      fill: #174EA6;\n",
              "    }\n",
              "\n",
              "    .colab-df-buttons div {\n",
              "      margin-bottom: 4px;\n",
              "    }\n",
              "\n",
              "    [theme=dark] .colab-df-convert {\n",
              "      background-color: #3B4455;\n",
              "      fill: #D2E3FC;\n",
              "    }\n",
              "\n",
              "    [theme=dark] .colab-df-convert:hover {\n",
              "      background-color: #434B5C;\n",
              "      box-shadow: 0px 1px 3px 1px rgba(0, 0, 0, 0.15);\n",
              "      filter: drop-shadow(0px 1px 2px rgba(0, 0, 0, 0.3));\n",
              "      fill: #FFFFFF;\n",
              "    }\n",
              "  </style>\n",
              "\n",
              "    <script>\n",
              "      const buttonEl =\n",
              "        document.querySelector('#df-f81157c9-50a6-41bc-9371-66dcd4f9928e button.colab-df-convert');\n",
              "      buttonEl.style.display =\n",
              "        google.colab.kernel.accessAllowed ? 'block' : 'none';\n",
              "\n",
              "      async function convertToInteractive(key) {\n",
              "        const element = document.querySelector('#df-f81157c9-50a6-41bc-9371-66dcd4f9928e');\n",
              "        const dataTable =\n",
              "          await google.colab.kernel.invokeFunction('convertToInteractive',\n",
              "                                                    [key], {});\n",
              "        if (!dataTable) return;\n",
              "\n",
              "        const docLinkHtml = 'Like what you see? Visit the ' +\n",
              "          '<a target=\"_blank\" href=https://colab.research.google.com/notebooks/data_table.ipynb>data table notebook</a>'\n",
              "          + ' to learn more about interactive tables.';\n",
              "        element.innerHTML = '';\n",
              "        dataTable['output_type'] = 'display_data';\n",
              "        await google.colab.output.renderOutput(dataTable, element);\n",
              "        const docLink = document.createElement('div');\n",
              "        docLink.innerHTML = docLinkHtml;\n",
              "        element.appendChild(docLink);\n",
              "      }\n",
              "    </script>\n",
              "  </div>\n",
              "\n",
              "\n",
              "<div id=\"df-6903effc-6b80-4aaa-9571-dfa73e689616\">\n",
              "  <button class=\"colab-df-quickchart\" onclick=\"quickchart('df-6903effc-6b80-4aaa-9571-dfa73e689616')\"\n",
              "            title=\"Suggest charts\"\n",
              "            style=\"display:none;\">\n",
              "\n",
              "<svg xmlns=\"http://www.w3.org/2000/svg\" height=\"24px\"viewBox=\"0 0 24 24\"\n",
              "     width=\"24px\">\n",
              "    <g>\n",
              "        <path d=\"M19 3H5c-1.1 0-2 .9-2 2v14c0 1.1.9 2 2 2h14c1.1 0 2-.9 2-2V5c0-1.1-.9-2-2-2zM9 17H7v-7h2v7zm4 0h-2V7h2v10zm4 0h-2v-4h2v4z\"/>\n",
              "    </g>\n",
              "</svg>\n",
              "  </button>\n",
              "\n",
              "<style>\n",
              "  .colab-df-quickchart {\n",
              "      --bg-color: #E8F0FE;\n",
              "      --fill-color: #1967D2;\n",
              "      --hover-bg-color: #E2EBFA;\n",
              "      --hover-fill-color: #174EA6;\n",
              "      --disabled-fill-color: #AAA;\n",
              "      --disabled-bg-color: #DDD;\n",
              "  }\n",
              "\n",
              "  [theme=dark] .colab-df-quickchart {\n",
              "      --bg-color: #3B4455;\n",
              "      --fill-color: #D2E3FC;\n",
              "      --hover-bg-color: #434B5C;\n",
              "      --hover-fill-color: #FFFFFF;\n",
              "      --disabled-bg-color: #3B4455;\n",
              "      --disabled-fill-color: #666;\n",
              "  }\n",
              "\n",
              "  .colab-df-quickchart {\n",
              "    background-color: var(--bg-color);\n",
              "    border: none;\n",
              "    border-radius: 50%;\n",
              "    cursor: pointer;\n",
              "    display: none;\n",
              "    fill: var(--fill-color);\n",
              "    height: 32px;\n",
              "    padding: 0;\n",
              "    width: 32px;\n",
              "  }\n",
              "\n",
              "  .colab-df-quickchart:hover {\n",
              "    background-color: var(--hover-bg-color);\n",
              "    box-shadow: 0 1px 2px rgba(60, 64, 67, 0.3), 0 1px 3px 1px rgba(60, 64, 67, 0.15);\n",
              "    fill: var(--button-hover-fill-color);\n",
              "  }\n",
              "\n",
              "  .colab-df-quickchart-complete:disabled,\n",
              "  .colab-df-quickchart-complete:disabled:hover {\n",
              "    background-color: var(--disabled-bg-color);\n",
              "    fill: var(--disabled-fill-color);\n",
              "    box-shadow: none;\n",
              "  }\n",
              "\n",
              "  .colab-df-spinner {\n",
              "    border: 2px solid var(--fill-color);\n",
              "    border-color: transparent;\n",
              "    border-bottom-color: var(--fill-color);\n",
              "    animation:\n",
              "      spin 1s steps(1) infinite;\n",
              "  }\n",
              "\n",
              "  @keyframes spin {\n",
              "    0% {\n",
              "      border-color: transparent;\n",
              "      border-bottom-color: var(--fill-color);\n",
              "      border-left-color: var(--fill-color);\n",
              "    }\n",
              "    20% {\n",
              "      border-color: transparent;\n",
              "      border-left-color: var(--fill-color);\n",
              "      border-top-color: var(--fill-color);\n",
              "    }\n",
              "    30% {\n",
              "      border-color: transparent;\n",
              "      border-left-color: var(--fill-color);\n",
              "      border-top-color: var(--fill-color);\n",
              "      border-right-color: var(--fill-color);\n",
              "    }\n",
              "    40% {\n",
              "      border-color: transparent;\n",
              "      border-right-color: var(--fill-color);\n",
              "      border-top-color: var(--fill-color);\n",
              "    }\n",
              "    60% {\n",
              "      border-color: transparent;\n",
              "      border-right-color: var(--fill-color);\n",
              "    }\n",
              "    80% {\n",
              "      border-color: transparent;\n",
              "      border-right-color: var(--fill-color);\n",
              "      border-bottom-color: var(--fill-color);\n",
              "    }\n",
              "    90% {\n",
              "      border-color: transparent;\n",
              "      border-bottom-color: var(--fill-color);\n",
              "    }\n",
              "  }\n",
              "</style>\n",
              "\n",
              "  <script>\n",
              "    async function quickchart(key) {\n",
              "      const quickchartButtonEl =\n",
              "        document.querySelector('#' + key + ' button');\n",
              "      quickchartButtonEl.disabled = true;  // To prevent multiple clicks.\n",
              "      quickchartButtonEl.classList.add('colab-df-spinner');\n",
              "      try {\n",
              "        const charts = await google.colab.kernel.invokeFunction(\n",
              "            'suggestCharts', [key], {});\n",
              "      } catch (error) {\n",
              "        console.error('Error during call to suggestCharts:', error);\n",
              "      }\n",
              "      quickchartButtonEl.classList.remove('colab-df-spinner');\n",
              "      quickchartButtonEl.classList.add('colab-df-quickchart-complete');\n",
              "    }\n",
              "    (() => {\n",
              "      let quickchartButtonEl =\n",
              "        document.querySelector('#df-6903effc-6b80-4aaa-9571-dfa73e689616 button');\n",
              "      quickchartButtonEl.style.display =\n",
              "        google.colab.kernel.accessAllowed ? 'block' : 'none';\n",
              "    })();\n",
              "  </script>\n",
              "</div>\n",
              "    </div>\n",
              "  </div>\n"
            ],
            "application/vnd.google.colaboratory.intrinsic+json": {
              "type": "dataframe",
              "variable_name": "df_train",
              "summary": "{\n  \"name\": \"df_train\",\n  \"rows\": 16990,\n  \"fields\": [\n    {\n      \"column\": \"text\",\n      \"properties\": {\n        \"dtype\": \"string\",\n        \"num_unique_values\": 16990,\n        \"samples\": [\n          \"Emera Teleconference on August 10 to Discuss Q2 2022 Results  https://t.co/KoJxf8sSP9  https://t.co/n7VzfukXWf\",\n          \"Feds say 2 NY residents used Trump fundraiser, photo in $27M investment scam  https://t.co/5EobtnCBTT\",\n          \"TAP, TAP, TAP, 21-ema broken across the board; $SPY $QQQ $DIA $XLF  A little follow-through instead of a gap-up would be grrrreat.  https://t.co/TZDmGQBbGu\"\n        ],\n        \"semantic_type\": \"\",\n        \"description\": \"\"\n      }\n    },\n    {\n      \"column\": \"label\",\n      \"properties\": {\n        \"dtype\": \"number\",\n        \"std\": 6,\n        \"min\": 0,\n        \"max\": 19,\n        \"num_unique_values\": 20,\n        \"samples\": [\n          0,\n          18,\n          17\n        ],\n        \"semantic_type\": \"\",\n        \"description\": \"\"\n      }\n    },\n    {\n      \"column\": \"clean_text\",\n      \"properties\": {\n        \"dtype\": \"string\",\n        \"num_unique_values\": 16942,\n        \"samples\": [\n          \"qqq held support month high spy held support paused amp month high\",\n          \"curv torrid holding stock tumble cowen downgrade http co fugv aomhe\",\n          \"heard street like many economically sensitive asset copper sending extraordinarily bearish signal pessimism may justified http co morw rzvge\"\n        ],\n        \"semantic_type\": \"\",\n        \"description\": \"\"\n      }\n    },\n    {\n      \"column\": \"topic\",\n      \"properties\": {\n        \"dtype\": \"category\",\n        \"num_unique_values\": 20,\n        \"samples\": [\n          \"Analyst Update\",\n          \"Stock Commentary\",\n          \"Personnel Change\"\n        ],\n        \"semantic_type\": \"\",\n        \"description\": \"\"\n      }\n    }\n  ]\n}"
            }
          },
          "metadata": {},
          "execution_count": 17
        }
      ],
      "source": [
        "df_train.head()"
      ]
    },
    {
      "cell_type": "code",
      "execution_count": null,
      "id": "178e5c35",
      "metadata": {
        "id": "178e5c35",
        "outputId": "ac78ae22-e975-478d-b79b-49a9d206d94d",
        "colab": {
          "base_uri": "https://localhost:8080/"
        }
      },
      "outputs": [
        {
          "output_type": "stream",
          "name": "stdout",
          "text": [
            "validation: (3293, 4)\n",
            "Test: (824, 4)\n",
            "Train: (16990, 4)\n"
          ]
        }
      ],
      "source": [
        "print(f\"validation: {df_val.shape}\")\n",
        "print(f\"Test: {df_test.shape}\")\n",
        "print(f\"Train: {df_train.shape}\")\n"
      ]
    },
    {
      "cell_type": "code",
      "execution_count": null,
      "id": "da2f4529",
      "metadata": {
        "id": "da2f4529",
        "outputId": "3e630207-40b3-4019-f7e1-b99aa0dc19b5",
        "colab": {
          "base_uri": "https://localhost:8080/"
        }
      },
      "outputs": [
        {
          "output_type": "execute_result",
          "data": {
            "text/plain": [
              "[0, 1, 2, 3, 4, 5, 6, 7, 8, 9, 10, 11, 12, 13, 14, 15, 16, 17, 18, 19]"
            ]
          },
          "metadata": {},
          "execution_count": 18
        }
      ],
      "source": [
        "class_names = sorted(df_train.label.unique())\n",
        "class_names"
      ]
    },
    {
      "cell_type": "code",
      "execution_count": null,
      "id": "3bdee4a8",
      "metadata": {
        "id": "3bdee4a8",
        "outputId": "d7231f59-d795-4913-bcab-9605835bd217",
        "colab": {
          "base_uri": "https://localhost:8080/"
        }
      },
      "outputs": [
        {
          "output_type": "execute_result",
          "data": {
            "text/plain": [
              "2     3545\n",
              "18    2118\n",
              "14    1822\n",
              "9     1557\n",
              "5      987\n",
              "16     985\n",
              "1      837\n",
              "19     823\n",
              "7      624\n",
              "6      524\n",
              "15     501\n",
              "17     495\n",
              "12     487\n",
              "13     471\n",
              "4      359\n",
              "3      321\n",
              "0      255\n",
              "8      166\n",
              "10      69\n",
              "11      44\n",
              "Name: label, dtype: int64"
            ]
          },
          "metadata": {},
          "execution_count": 19
        }
      ],
      "source": [
        "df_train.label.value_counts()"
      ]
    },
    {
      "cell_type": "code",
      "execution_count": null,
      "id": "bea8b62d",
      "metadata": {
        "id": "bea8b62d",
        "outputId": "d2607e3a-a576-4904-eab2-df59cefefcd7",
        "colab": {
          "base_uri": "https://localhost:8080/"
        }
      },
      "outputs": [
        {
          "output_type": "execute_result",
          "data": {
            "text/plain": [
              "['Analyst Update',\n",
              " 'Company | Product News',\n",
              " 'Currencies',\n",
              " 'Dividend',\n",
              " 'Earnings',\n",
              " 'Energy | Oil',\n",
              " 'Fed | Central Banks',\n",
              " 'Financials',\n",
              " 'General News | Opinion',\n",
              " 'Gold | Metals | Materials',\n",
              " 'IPO',\n",
              " 'Legal | Regulation',\n",
              " 'M&A | Investments',\n",
              " 'Macro',\n",
              " 'Markets',\n",
              " 'Personnel Change',\n",
              " 'Politics',\n",
              " 'Stock Commentary',\n",
              " 'Stock Movement',\n",
              " 'Treasuries | Corporate Debt']"
            ]
          },
          "metadata": {},
          "execution_count": 20
        }
      ],
      "source": [
        "sorted(df_train.topic.unique())"
      ]
    },
    {
      "cell_type": "code",
      "execution_count": null,
      "id": "f81e7812",
      "metadata": {
        "id": "f81e7812"
      },
      "outputs": [],
      "source": [
        "def create_data_loader(\n",
        "    df, tokenizer, max_len=MAX_LEN, batch_size=BATCH_SIZE, include_raw_text=False\n",
        "):\n",
        "    ds = TextDataset(\n",
        "        text=df.text.to_list(),\n",
        "        targets=df.label.to_list(),\n",
        "        tokenizer=tokenizer,\n",
        "        max_len=max_len,\n",
        "        include_raw_text=include_raw_text,\n",
        "    )\n",
        "    return DataLoader(ds, batch_size=batch_size, collate_fn=collator, shuffle=True)\n"
      ]
    },
    {
      "cell_type": "code",
      "execution_count": null,
      "id": "32c80c35",
      "metadata": {
        "id": "32c80c35"
      },
      "outputs": [],
      "source": [
        "train_data_loader = create_data_loader(df_train, tokenizer)"
      ]
    },
    {
      "cell_type": "code",
      "execution_count": null,
      "id": "3ad36edf",
      "metadata": {
        "id": "3ad36edf"
      },
      "outputs": [],
      "source": [
        "val_data_loader = create_data_loader(df_val, tokenizer)"
      ]
    },
    {
      "cell_type": "code",
      "execution_count": null,
      "id": "aa3c9f95",
      "metadata": {
        "id": "aa3c9f95"
      },
      "outputs": [],
      "source": [
        "test_data_loader = create_data_loader(df_test, tokenizer)"
      ]
    },
    {
      "cell_type": "code",
      "execution_count": null,
      "id": "aed1835b",
      "metadata": {
        "id": "aed1835b",
        "colab": {
          "base_uri": "https://localhost:8080/",
          "height": 49,
          "referenced_widgets": [
            "a32ff9fc71d340f0a0c14260d60bbc4f",
            "8908462aa18046b19a94d85c7174e935",
            "b1caf1c946004ef489d26b65bce12f20",
            "f1280dfe526f49bc80a782b461ebbdf0",
            "eeb8723f13524c2985d7683611917e54",
            "bb9afb2fb7ff4d95a936a0f12ed2bc0c",
            "3d17cb8db9ca4d0f847a99dbc9cdb408",
            "6f8a2be404514eb1abb3fdc2a7ed4a51",
            "48ab18f5126c457294ea611e1841bb30",
            "9ef72d9df45e439e80ff0047c990ca2e",
            "1f0a2b534b13451583a3e68337811a41"
          ]
        },
        "outputId": "7d1d6564-0219-4ce2-e48b-680af6350671"
      },
      "outputs": [
        {
          "output_type": "display_data",
          "data": {
            "text/plain": [
              "model.safetensors:   0%|          | 0.00/440M [00:00<?, ?B/s]"
            ],
            "application/vnd.jupyter.widget-view+json": {
              "version_major": 2,
              "version_minor": 0,
              "model_id": "a32ff9fc71d340f0a0c14260d60bbc4f"
            }
          },
          "metadata": {}
        }
      ],
      "source": [
        "model = SentimentClassifierModel(len(class_names))\n",
        "model = model.to(device)"
      ]
    },
    {
      "cell_type": "code",
      "execution_count": null,
      "id": "f3611e8d",
      "metadata": {
        "id": "f3611e8d",
        "outputId": "64e9f40a-5456-4733-c77a-390300ee877a",
        "colab": {
          "base_uri": "https://localhost:8080/"
        }
      },
      "outputs": [
        {
          "output_type": "stream",
          "name": "stdout",
          "text": [
            "{'input_ids': tensor([[  101,  3041,  1024,  ...,     0,     0,     0],\n",
            "        [  101,  2343,  8418,  ...,     0,     0,     0],\n",
            "        [  101,  1002,  2002,  ...,     0,     0,     0],\n",
            "        ...,\n",
            "        [  101,  1002,  2038,  ...,     0,     0,     0],\n",
            "        [  101,  1002, 13866,  ...,     0,     0,     0],\n",
            "        [  101, 28667,  9331,  ...,     0,     0,     0]]), 'attention_mask': tensor([[1, 1, 1,  ..., 0, 0, 0],\n",
            "        [1, 1, 1,  ..., 0, 0, 0],\n",
            "        [1, 1, 1,  ..., 0, 0, 0],\n",
            "        ...,\n",
            "        [1, 1, 1,  ..., 0, 0, 0],\n",
            "        [1, 1, 1,  ..., 0, 0, 0],\n",
            "        [1, 1, 1,  ..., 0, 0, 0]]), 'targets': tensor([16,  9, 18, 15,  7, 18, 14,  2,  2,  2, 19, 14,  2,  1,  1,  6,  6, 18,\n",
            "         5, 19, 18, 14,  7, 16, 14, 17, 18,  6, 18, 14,  1,  2,  6,  6,  5, 15,\n",
            "         9,  6, 12,  8, 14,  2, 18, 19, 12, 18, 14, 18,  1,  2, 18, 14,  2,  5,\n",
            "         2, 12, 10,  2, 14,  2, 17, 18, 18, 18])}\n",
            "dict_keys(['input_ids', 'attention_mask', 'targets'])\n",
            "torch.Size([64, 86])\n",
            "torch.Size([64, 86])\n",
            "torch.Size([64])\n"
          ]
        }
      ],
      "source": [
        "data = next(iter(train_data_loader))\n",
        "\n",
        "print(data)\n",
        "print(data.keys()) # dict_keys(['input_ids', 'attention_mask', 'targets'])\n",
        "\n",
        "print(data['input_ids'].shape) # torch.Size([16, 512])\n",
        "\n",
        "print(data['attention_mask'].shape) # torch.Size([16, 512])\n",
        "\n",
        "print(data['targets'].shape) # torch.Size([16])"
      ]
    },
    {
      "cell_type": "code",
      "execution_count": null,
      "id": "80017164",
      "metadata": {
        "id": "80017164",
        "outputId": "507aea66-145e-4a52-a063-d14ab33aed1d",
        "colab": {
          "base_uri": "https://localhost:8080/"
        }
      },
      "outputs": [
        {
          "output_type": "execute_result",
          "data": {
            "text/plain": [
              "tensor([[0.0196, 0.0634, 0.0874,  ..., 0.0301, 0.0730, 0.0385],\n",
              "        [0.0219, 0.0402, 0.0619,  ..., 0.0442, 0.0555, 0.0490],\n",
              "        [0.0197, 0.0496, 0.0657,  ..., 0.0211, 0.0792, 0.0386],\n",
              "        ...,\n",
              "        [0.0210, 0.0556, 0.0797,  ..., 0.0334, 0.0639, 0.0457],\n",
              "        [0.0155, 0.0549, 0.0693,  ..., 0.0397, 0.0686, 0.0274],\n",
              "        [0.0211, 0.0432, 0.0778,  ..., 0.0301, 0.0562, 0.0325]],\n",
              "       device='cuda:0', grad_fn=<SoftmaxBackward0>)"
            ]
          },
          "metadata": {},
          "execution_count": 27
        }
      ],
      "source": [
        "# Just An evaluation run of the model\n",
        "input_ids = data['input_ids'].to(device)\n",
        "attention_mask = data['attention_mask'].to(device)\n",
        "F.softmax(model(input_ids,attention_mask), dim = 1)"
      ]
    },
    {
      "cell_type": "code",
      "execution_count": null,
      "id": "d5ba6b15",
      "metadata": {
        "id": "d5ba6b15"
      },
      "outputs": [],
      "source": [
        "EPOCHS = 20\n",
        "\n",
        "optimizer = optim.AdamW(model.parameters(), lr= 2e-5, eps = 1e-8)\n",
        "\n",
        "total_steps = len(train_data_loader) * EPOCHS\n",
        "\n",
        "scheduler = get_linear_schedule_with_warmup(\n",
        "    optimizer,\n",
        "    num_warmup_steps = 0,\n",
        "    num_training_steps=total_steps)\n",
        "\n",
        "# For multi-class classification you would usually just use nn.CrossEntropyLoss\n",
        "loss_fn = nn.CrossEntropyLoss().to(device)"
      ]
    },
    {
      "cell_type": "code",
      "execution_count": null,
      "id": "0f3ad5c6",
      "metadata": {
        "id": "0f3ad5c6",
        "colab": {
          "base_uri": "https://localhost:8080/"
        },
        "outputId": "b9aad1af-dc37-4f97-e235-ea7eba223a99"
      },
      "outputs": [
        {
          "output_type": "stream",
          "name": "stdout",
          "text": [
            "Epoch 1/ 20\n",
            "---------------\n",
            "  Batch    40  of    266.    Elapsed: 0:00:32.\n",
            "  Batch    80  of    266.    Elapsed: 0:01:04.\n",
            "  Batch   120  of    266.    Elapsed: 0:01:36.\n",
            "  Batch   160  of    266.    Elapsed: 0:02:10.\n",
            "  Batch   200  of    266.    Elapsed: 0:02:44.\n",
            "  Batch   240  of    266.    Elapsed: 0:03:20.\n",
            "Train loss 1.4948890303310596 accuracy 0.6179517507553101\n",
            "Val loss 0.6717490765910882 accuracy 0.8399635553359985\n",
            "Epoch 2/ 20\n",
            "---------------\n",
            "  Batch    40  of    266.    Elapsed: 0:00:37.\n",
            "  Batch    80  of    266.    Elapsed: 0:01:12.\n",
            "  Batch   120  of    266.    Elapsed: 0:01:48.\n",
            "  Batch   160  of    266.    Elapsed: 0:02:24.\n",
            "  Batch   200  of    266.    Elapsed: 0:03:01.\n",
            "  Batch   240  of    266.    Elapsed: 0:03:37.\n",
            "Train loss 0.49954698806194436 accuracy 0.8788699507713318\n",
            "Val loss 0.4529375224732436 accuracy 0.8751897811889648\n",
            "Epoch 3/ 20\n",
            "---------------\n",
            "  Batch    40  of    266.    Elapsed: 0:00:37.\n",
            "  Batch    80  of    266.    Elapsed: 0:01:13.\n",
            "  Batch   120  of    266.    Elapsed: 0:01:50.\n",
            "  Batch   160  of    266.    Elapsed: 0:02:26.\n",
            "  Batch   200  of    266.    Elapsed: 0:03:03.\n",
            "  Batch   240  of    266.    Elapsed: 0:03:39.\n",
            "Train loss 0.26013646790183576 accuracy 0.9366097450256348\n",
            "Val loss 0.38258249771136504 accuracy 0.8946249485015869\n",
            "Epoch 4/ 20\n",
            "---------------\n",
            "  Batch    40  of    266.    Elapsed: 0:00:36.\n",
            "  Batch    80  of    266.    Elapsed: 0:01:14.\n",
            "  Batch   120  of    266.    Elapsed: 0:01:50.\n",
            "  Batch   160  of    266.    Elapsed: 0:02:26.\n",
            "  Batch   200  of    266.    Elapsed: 0:03:03.\n",
            "  Batch   240  of    266.    Elapsed: 0:03:39.\n",
            "Train loss 0.15352061721391247 accuracy 0.9613301753997803\n",
            "Val loss 0.3629995681202182 accuracy 0.9064682722091675\n",
            "Epoch 5/ 20\n",
            "---------------\n",
            "  Batch    40  of    266.    Elapsed: 0:00:35.\n",
            "  Batch    80  of    266.    Elapsed: 0:01:12.\n",
            "  Batch   120  of    266.    Elapsed: 0:01:49.\n",
            "  Batch   160  of    266.    Elapsed: 0:02:26.\n",
            "  Batch   200  of    266.    Elapsed: 0:03:01.\n",
            "  Batch   240  of    266.    Elapsed: 0:03:38.\n",
            "Train loss 0.09681890057609942 accuracy 0.9770452976226807\n",
            "Val loss 0.3752730620595125 accuracy 0.9116307497024536\n",
            "Epoch 6/ 20\n",
            "---------------\n",
            "  Batch    40  of    266.    Elapsed: 0:00:35.\n",
            "  Batch    80  of    266.    Elapsed: 0:01:13.\n",
            "  Batch   120  of    266.    Elapsed: 0:01:48.\n",
            "  Batch   160  of    266.    Elapsed: 0:02:25.\n",
            "  Batch   200  of    266.    Elapsed: 0:03:01.\n",
            "  Batch   240  of    266.    Elapsed: 0:03:40.\n",
            "Train loss 0.060881098322710374 accuracy 0.9845203161239624\n",
            "Val loss 0.4128657391724678 accuracy 0.9064682722091675\n",
            "Epoch 7/ 20\n",
            "---------------\n",
            "  Batch    40  of    266.    Elapsed: 0:00:37.\n",
            "  Batch    80  of    266.    Elapsed: 0:01:13.\n",
            "  Batch   120  of    266.    Elapsed: 0:01:50.\n",
            "  Batch   160  of    266.    Elapsed: 0:02:25.\n",
            "  Batch   200  of    266.    Elapsed: 0:03:00.\n",
            "  Batch   240  of    266.    Elapsed: 0:03:37.\n",
            "Train loss 0.04321250311077986 accuracy 0.9909946918487549\n",
            "Val loss 0.41715497236985427 accuracy 0.9128454327583313\n",
            "Epoch 8/ 20\n",
            "---------------\n",
            "  Batch    40  of    266.    Elapsed: 0:00:38.\n",
            "  Batch    80  of    266.    Elapsed: 0:01:13.\n",
            "  Batch   120  of    266.    Elapsed: 0:01:51.\n",
            "  Batch   160  of    266.    Elapsed: 0:02:28.\n",
            "  Batch   200  of    266.    Elapsed: 0:03:03.\n",
            "  Batch   240  of    266.    Elapsed: 0:03:38.\n",
            "Train loss 0.028028205879158656 accuracy 0.9936433434486389\n",
            "Val loss 0.45616251344864184 accuracy 0.9104160070419312\n",
            "Epoch 9/ 20\n",
            "---------------\n",
            "  Batch    40  of    266.    Elapsed: 0:00:36.\n",
            "  Batch    80  of    266.    Elapsed: 0:01:14.\n",
            "  Batch   120  of    266.    Elapsed: 0:01:49.\n",
            "  Batch   160  of    266.    Elapsed: 0:02:26.\n",
            "  Batch   200  of    266.    Elapsed: 0:03:02.\n",
            "  Batch   240  of    266.    Elapsed: 0:03:39.\n",
            "Train loss 0.024498803821161277 accuracy 0.994526207447052\n",
            "Val loss 0.4638657124999624 accuracy 0.9119344353675842\n",
            "Epoch 10/ 20\n",
            "---------------\n",
            "  Batch    40  of    266.    Elapsed: 0:00:36.\n",
            "  Batch    80  of    266.    Elapsed: 0:01:14.\n",
            "  Batch   120  of    266.    Elapsed: 0:01:49.\n",
            "  Batch   160  of    266.    Elapsed: 0:02:26.\n",
            "  Batch   200  of    266.    Elapsed: 0:03:01.\n",
            "  Batch   240  of    266.    Elapsed: 0:03:37.\n",
            "Train loss 0.017017095800947846 accuracy 0.9962919354438782\n",
            "Val loss 0.5061922153601279 accuracy 0.9076829552650452\n",
            "Epoch 11/ 20\n",
            "---------------\n",
            "  Batch    40  of    266.    Elapsed: 0:00:36.\n",
            "  Batch    80  of    266.    Elapsed: 0:01:13.\n",
            "  Batch   120  of    266.    Elapsed: 0:01:49.\n",
            "  Batch   160  of    266.    Elapsed: 0:02:27.\n",
            "  Batch   200  of    266.    Elapsed: 0:03:04.\n",
            "  Batch   240  of    266.    Elapsed: 0:03:40.\n",
            "Train loss 0.015227933480803455 accuracy 0.9962331056594849\n",
            "Val loss 0.49230310464134586 accuracy 0.9101123809814453\n",
            "Epoch 12/ 20\n",
            "---------------\n",
            "  Batch    40  of    266.    Elapsed: 0:00:36.\n",
            "  Batch    80  of    266.    Elapsed: 0:01:12.\n",
            "  Batch   120  of    266.    Elapsed: 0:01:48.\n",
            "  Batch   160  of    266.    Elapsed: 0:02:25.\n",
            "  Batch   200  of    266.    Elapsed: 0:03:02.\n",
            "  Batch   240  of    266.    Elapsed: 0:03:39.\n",
            "Train loss 0.013189504665315599 accuracy 0.9969393610954285\n",
            "Val loss 0.4965403390546831 accuracy 0.9164895415306091\n",
            "Epoch 13/ 20\n",
            "---------------\n",
            "  Batch    40  of    266.    Elapsed: 0:00:35.\n",
            "  Batch    80  of    266.    Elapsed: 0:01:13.\n",
            "  Batch   120  of    266.    Elapsed: 0:01:51.\n",
            "  Batch   160  of    266.    Elapsed: 0:02:26.\n",
            "  Batch   200  of    266.    Elapsed: 0:03:03.\n",
            "  Batch   240  of    266.    Elapsed: 0:03:39.\n",
            "Train loss 0.011004586646305327 accuracy 0.9969393610954285\n",
            "Val loss 0.5232629988055962 accuracy 0.9110233783721924\n",
            "Epoch 14/ 20\n",
            "---------------\n",
            "  Batch    40  of    266.    Elapsed: 0:00:35.\n",
            "  Batch    80  of    266.    Elapsed: 0:01:13.\n",
            "  Batch   120  of    266.    Elapsed: 0:01:49.\n",
            "  Batch   160  of    266.    Elapsed: 0:02:24.\n",
            "  Batch   200  of    266.    Elapsed: 0:03:00.\n",
            "  Batch   240  of    266.    Elapsed: 0:03:37.\n",
            "Train loss 0.008233080071675471 accuracy 0.9976456761360168\n",
            "Val loss 0.518242325920325 accuracy 0.9149711728096008\n",
            "Epoch 15/ 20\n",
            "---------------\n",
            "  Batch    40  of    266.    Elapsed: 0:00:36.\n",
            "  Batch    80  of    266.    Elapsed: 0:01:12.\n",
            "  Batch   120  of    266.    Elapsed: 0:01:49.\n",
            "  Batch   160  of    266.    Elapsed: 0:02:25.\n",
            "  Batch   200  of    266.    Elapsed: 0:03:01.\n",
            "  Batch   240  of    266.    Elapsed: 0:03:37.\n",
            "Train loss 0.0077461023343187805 accuracy 0.9981165528297424\n",
            "Val loss 0.5403424210559863 accuracy 0.914060115814209\n",
            "Epoch 16/ 20\n",
            "---------------\n",
            "  Batch    40  of    266.    Elapsed: 0:00:37.\n",
            "  Batch    80  of    266.    Elapsed: 0:01:14.\n",
            "  Batch   120  of    266.    Elapsed: 0:01:51.\n",
            "  Batch   160  of    266.    Elapsed: 0:02:27.\n",
            "  Batch   200  of    266.    Elapsed: 0:03:03.\n",
            "  Batch   240  of    266.    Elapsed: 0:03:39.\n",
            "Train loss 0.006158820886945674 accuracy 0.9984697103500366\n",
            "Val loss 0.5332877421035216 accuracy 0.9134528040885925\n",
            "Epoch 17/ 20\n",
            "---------------\n",
            "  Batch    40  of    266.    Elapsed: 0:00:36.\n",
            "  Batch    80  of    266.    Elapsed: 0:01:15.\n",
            "  Batch   120  of    266.    Elapsed: 0:01:52.\n",
            "  Batch   160  of    266.    Elapsed: 0:02:27.\n",
            "  Batch   200  of    266.    Elapsed: 0:03:01.\n",
            "  Batch   240  of    266.    Elapsed: 0:03:38.\n",
            "Train loss 0.004920672855289176 accuracy 0.9984697103500366\n",
            "Val loss 0.5188334297675353 accuracy 0.9152747988700867\n",
            "Epoch 18/ 20\n",
            "---------------\n",
            "  Batch    40  of    266.    Elapsed: 0:00:36.\n",
            "  Batch    80  of    266.    Elapsed: 0:01:11.\n",
            "  Batch   120  of    266.    Elapsed: 0:01:48.\n",
            "  Batch   160  of    266.    Elapsed: 0:02:25.\n",
            "  Batch   200  of    266.    Elapsed: 0:03:01.\n",
            "  Batch   240  of    266.    Elapsed: 0:03:37.\n",
            "Train loss 0.004522045246015576 accuracy 0.998587429523468\n",
            "Val loss 0.5464939728665811 accuracy 0.9137564301490784\n",
            "Epoch 19/ 20\n",
            "---------------\n",
            "  Batch    40  of    266.    Elapsed: 0:00:37.\n",
            "  Batch    80  of    266.    Elapsed: 0:01:12.\n",
            "  Batch   120  of    266.    Elapsed: 0:01:49.\n",
            "  Batch   160  of    266.    Elapsed: 0:02:25.\n",
            "  Batch   200  of    266.    Elapsed: 0:03:02.\n",
            "  Batch   240  of    266.    Elapsed: 0:03:39.\n",
            "Train loss 0.0027547697131819603 accuracy 0.9992936849594116\n",
            "Val loss 0.5397889594941472 accuracy 0.9180079102516174\n",
            "Epoch 20/ 20\n",
            "---------------\n",
            "  Batch    40  of    266.    Elapsed: 0:00:36.\n",
            "  Batch    80  of    266.    Elapsed: 0:01:12.\n",
            "  Batch   120  of    266.    Elapsed: 0:01:48.\n",
            "  Batch   160  of    266.    Elapsed: 0:02:23.\n",
            "  Batch   200  of    266.    Elapsed: 0:03:01.\n",
            "  Batch   240  of    266.    Elapsed: 0:03:36.\n",
            "Train loss 0.002256685783220035 accuracy 0.999411404132843\n",
            "Val loss 0.5348548975844796 accuracy 0.9161858558654785\n",
            "CPU times: user 1h 26min 6s, sys: 13.5 s, total: 1h 26min 19s\n",
            "Wall time: 1h 27min 15s\n"
          ]
        }
      ],
      "source": [
        "%%time\n",
        "history = defaultdict(list)\n",
        "best_accuracy = 0\n",
        "\n",
        "for epoch in range(EPOCHS):\n",
        "    print(f'Epoch {epoch + 1}/ {EPOCHS}')\n",
        "    print('-'*15)\n",
        "    train_acc, train_loss = train_bert_model(model, train_data_loader, loss_fn, optimizer, device, scheduler, len(df_train))\n",
        "    print(f'Train loss {train_loss} accuracy {train_acc}')\n",
        "\n",
        "    val_acc, val_loss = eval_bert_model(model, val_data_loader, loss_fn, device, len(df_val))\n",
        "    print(f'Val loss {val_loss} accuracy {val_acc}')\n",
        "\n",
        "    history['train_acc'].append(train_acc)\n",
        "    history['train_loss'].append(train_loss)\n",
        "    history['val_acc'].append(val_acc)\n",
        "    history['val_loss'].append(val_loss)\n",
        "\n",
        "    if val_acc>best_accuracy:\n",
        "        torch.save(model.state_dict(), 'best_model_state.bin')\n",
        "        best_accuracy = val_acc\n"
      ]
    },
    {
      "cell_type": "code",
      "execution_count": null,
      "id": "d65fa37b",
      "metadata": {
        "id": "d65fa37b"
      },
      "outputs": [],
      "source": [
        "def show_confusion_matrix(confusion_matrix):\n",
        "    hmap = sns.heatmap(confusion_matrix, annot=True, fmt=\"d\", cmap=\"Blues\")\n",
        "    hmap.yaxis.set_ticklabels(hmap.yaxis.get_ticklabels(), rotation = 0, ha='right')\n",
        "    hmap.xaxis.set_ticklabels(hmap.xaxis.get_ticklabels(), rotation = 30, ha='right')\n",
        "    plt.ylabel('True Sentiment')\n",
        "    plt.xlabel('Predicted Sentiment')\n",
        "\n",
        "y_pred, y_pred_probs, y_test = get_bert_predictions(model, test_data_loader)"
      ]
    },
    {
      "cell_type": "code",
      "execution_count": null,
      "id": "297a2ec9",
      "metadata": {
        "id": "297a2ec9",
        "outputId": "cee10d22-6b96-447f-f027-a36dfd725ed6",
        "colab": {
          "base_uri": "https://localhost:8080/"
        }
      },
      "outputs": [
        {
          "output_type": "stream",
          "name": "stdout",
          "text": [
            "              precision    recall  f1-score   support\n",
            "\n",
            "           0       1.00      0.82      0.90        22\n",
            "           1       0.97      0.95      0.96        41\n",
            "           2       0.90      0.92      0.91       184\n",
            "           3       1.00      0.79      0.88        14\n",
            "           4       0.95      1.00      0.98        21\n",
            "           5       0.96      0.98      0.97        55\n",
            "           6       0.93      0.88      0.90        32\n",
            "           7       0.90      0.87      0.89        31\n",
            "           8       1.00      1.00      1.00         4\n",
            "           9       0.93      0.86      0.89        63\n",
            "          10       0.67      1.00      0.80         2\n",
            "          11       0.50      1.00      0.67         1\n",
            "          12       0.85      0.85      0.85        27\n",
            "          13       0.88      0.73      0.80        30\n",
            "          14       0.90      0.97      0.93        79\n",
            "          15       0.80      0.89      0.84        18\n",
            "          16       0.98      1.00      0.99        49\n",
            "          17       0.91      0.95      0.93        21\n",
            "          18       0.93      0.93      0.93        89\n",
            "          19       0.93      0.98      0.95        41\n",
            "\n",
            "    accuracy                           0.92       824\n",
            "   macro avg       0.90      0.92      0.90       824\n",
            "weighted avg       0.92      0.92      0.92       824\n",
            "\n"
          ]
        }
      ],
      "source": [
        "print(classification_report(y_test, y_pred))"
      ]
    },
    {
      "cell_type": "code",
      "execution_count": null,
      "id": "9a371c2b",
      "metadata": {
        "id": "9a371c2b",
        "outputId": "7651eac6-2720-4f62-ccdd-12d2e55f367d",
        "colab": {
          "base_uri": "https://localhost:8080/"
        }
      },
      "outputs": [
        {
          "output_type": "display_data",
          "data": {
            "text/plain": [
              "<Figure size 640x480 with 2 Axes>"
            ],
            "image/png": "[encoded data removed]"
          },
          "metadata": {}
        }
      ],
      "source": [
        "cm = confusion_matrix(y_test, y_pred)\n",
        "df_cm = pd.DataFrame(cm, index=class_names, columns = class_names)\n",
        "show_confusion_matrix(df_cm)"
      ]
    },
    {
      "cell_type": "code",
      "execution_count": null,
      "id": "ad761dfb",
      "metadata": {
        "id": "ad761dfb"
      },
      "outputs": [],
      "source": [
        "torch.save(model.state_dict(), ' sentiment_model.pt')"
      ]
    },
    {
      "cell_type": "code",
      "execution_count": null,
      "id": "60ec0cec",
      "metadata": {
        "id": "60ec0cec"
      },
      "outputs": [],
      "source": []
    }
  ],
  "metadata": {
    "kernelspec": {
      "display_name": "Python 3",
      "name": "python3"
    },
    "language_info": {
      "codemirror_mode": {
        "name": "ipython",
        "version": 3
      },
      "file_extension": ".py",
      "mimetype": "text/x-python",
      "name": "python",
      "nbconvert_exporter": "python",
      "pygments_lexer": "ipython3",
      "version": "3.11.4"
    },
    "colab": {
      "provenance": [],
      "gpuType": "T4"
    },
    "accelerator": "GPU",
    "widgets": {
      "application/vnd.jupyter.widget-state+json": {
        "a083558ae4794cf384202054d2bf1e14": {
          "model_module": "@jupyter-widgets/controls",
          "model_name": "HBoxModel",
          "model_module_version": "1.5.0",
          "state": {
            "_dom_classes": [],
            "_model_module": "@jupyter-widgets/controls",
            "_model_module_version": "1.5.0",
            "_model_name": "HBoxModel",
            "_view_count": null,
            "_view_module": "@jupyter-widgets/controls",
            "_view_module_version": "1.5.0",
            "_view_name": "HBoxView",
            "box_style": "",
            "children": [
              "IPY_MODEL_d918cd68a6ed487d9588825e5bf3b7d9",
              "IPY_MODEL_c8c31cb25f58432d8e104019bfecb394",
              "IPY_MODEL_6ff184bcf9ae4e279d589e52365155b7"
            ],
            "layout": "IPY_MODEL_249d02344402430691c85476281e1dee"
          }
        },
        "d918cd68a6ed487d9588825e5bf3b7d9": {
          "model_module": "@jupyter-widgets/controls",
          "model_name": "HTMLModel",
          "model_module_version": "1.5.0",
          "state": {
            "_dom_classes": [],
            "_model_module": "@jupyter-widgets/controls",
            "_model_module_version": "1.5.0",
            "_model_name": "HTMLModel",
            "_view_count": null,
            "_view_module": "@jupyter-widgets/controls",
            "_view_module_version": "1.5.0",
            "_view_name": "HTMLView",
            "description": "",
            "description_tooltip": null,
            "layout": "IPY_MODEL_89ac2e16ab474dc9bd4e55fb534983e9",
            "placeholder": "​",
            "style": "IPY_MODEL_6f9847e976b947ac97f81d29b2e664bd",
            "value": "tokenizer_config.json: 100%"
          }
        },
        "c8c31cb25f58432d8e104019bfecb394": {
          "model_module": "@jupyter-widgets/controls",
          "model_name": "FloatProgressModel",
          "model_module_version": "1.5.0",
          "state": {
            "_dom_classes": [],
            "_model_module": "@jupyter-widgets/controls",
            "_model_module_version": "1.5.0",
            "_model_name": "FloatProgressModel",
            "_view_count": null,
            "_view_module": "@jupyter-widgets/controls",
            "_view_module_version": "1.5.0",
            "_view_name": "ProgressView",
            "bar_style": "success",
            "description": "",
            "description_tooltip": null,
            "layout": "IPY_MODEL_d5ae36683a9e4a09ac02f72e1e1e6130",
            "max": 48,
            "min": 0,
            "orientation": "horizontal",
            "style": "IPY_MODEL_0d71cac64bea4cdabb9d4a147b2da860",
            "value": 48
          }
        },
        "6ff184bcf9ae4e279d589e52365155b7": {
          "model_module": "@jupyter-widgets/controls",
          "model_name": "HTMLModel",
          "model_module_version": "1.5.0",
          "state": {
            "_dom_classes": [],
            "_model_module": "@jupyter-widgets/controls",
            "_model_module_version": "1.5.0",
            "_model_name": "HTMLModel",
            "_view_count": null,
            "_view_module": "@jupyter-widgets/controls",
            "_view_module_version": "1.5.0",
            "_view_name": "HTMLView",
            "description": "",
            "description_tooltip": null,
            "layout": "IPY_MODEL_c5e20772748443699bb369fcaec3f291",
            "placeholder": "​",
            "style": "IPY_MODEL_f17b4055e0a549588ffbe48160e57386",
            "value": " 48.0/48.0 [00:00&lt;00:00, 620B/s]"
          }
        },
        "249d02344402430691c85476281e1dee": {
          "model_module": "@jupyter-widgets/base",
          "model_name": "LayoutModel",
          "model_module_version": "1.2.0",
          "state": {
            "_model_module": "@jupyter-widgets/base",
            "_model_module_version": "1.2.0",
            "_model_name": "LayoutModel",
            "_view_count": null,
            "_view_module": "@jupyter-widgets/base",
            "_view_module_version": "1.2.0",
            "_view_name": "LayoutView",
            "align_content": null,
            "align_items": null,
            "align_self": null,
            "border": null,
            "bottom": null,
            "display": null,
            "flex": null,
            "flex_flow": null,
            "grid_area": null,
            "grid_auto_columns": null,
            "grid_auto_flow": null,
            "grid_auto_rows": null,
            "grid_column": null,
            "grid_gap": null,
            "grid_row": null,
            "grid_template_areas": null,
            "grid_template_columns": null,
            "grid_template_rows": null,
            "height": null,
            "justify_content": null,
            "justify_items": null,
            "left": null,
            "margin": null,
            "max_height": null,
            "max_width": null,
            "min_height": null,
            "min_width": null,
            "object_fit": null,
            "object_position": null,
            "order": null,
            "overflow": null,
            "overflow_x": null,
            "overflow_y": null,
            "padding": null,
            "right": null,
            "top": null,
            "visibility": null,
            "width": null
          }
        },
        "89ac2e16ab474dc9bd4e55fb534983e9": {
          "model_module": "@jupyter-widgets/base",
          "model_name": "LayoutModel",
          "model_module_version": "1.2.0",
          "state": {
            "_model_module": "@jupyter-widgets/base",
            "_model_module_version": "1.2.0",
            "_model_name": "LayoutModel",
            "_view_count": null,
            "_view_module": "@jupyter-widgets/base",
            "_view_module_version": "1.2.0",
            "_view_name": "LayoutView",
            "align_content": null,
            "align_items": null,
            "align_self": null,
            "border": null,
            "bottom": null,
            "display": null,
            "flex": null,
            "flex_flow": null,
            "grid_area": null,
            "grid_auto_columns": null,
            "grid_auto_flow": null,
            "grid_auto_rows": null,
            "grid_column": null,
            "grid_gap": null,
            "grid_row": null,
            "grid_template_areas": null,
            "grid_template_columns": null,
            "grid_template_rows": null,
            "height": null,
            "justify_content": null,
            "justify_items": null,
            "left": null,
            "margin": null,
            "max_height": null,
            "max_width": null,
            "min_height": null,
            "min_width": null,
            "object_fit": null,
            "object_position": null,
            "order": null,
            "overflow": null,
            "overflow_x": null,
            "overflow_y": null,
            "padding": null,
            "right": null,
            "top": null,
            "visibility": null,
            "width": null
          }
        },
        "6f9847e976b947ac97f81d29b2e664bd": {
          "model_module": "@jupyter-widgets/controls",
          "model_name": "DescriptionStyleModel",
          "model_module_version": "1.5.0",
          "state": {
            "_model_module": "@jupyter-widgets/controls",
            "_model_module_version": "1.5.0",
            "_model_name": "DescriptionStyleModel",
            "_view_count": null,
            "_view_module": "@jupyter-widgets/base",
            "_view_module_version": "1.2.0",
            "_view_name": "StyleView",
            "description_width": ""
          }
        },
        "d5ae36683a9e4a09ac02f72e1e1e6130": {
          "model_module": "@jupyter-widgets/base",
          "model_name": "LayoutModel",
          "model_module_version": "1.2.0",
          "state": {
            "_model_module": "@jupyter-widgets/base",
            "_model_module_version": "1.2.0",
            "_model_name": "LayoutModel",
            "_view_count": null,
            "_view_module": "@jupyter-widgets/base",
            "_view_module_version": "1.2.0",
            "_view_name": "LayoutView",
            "align_content": null,
            "align_items": null,
            "align_self": null,
            "border": null,
            "bottom": null,
            "display": null,
            "flex": null,
            "flex_flow": null,
            "grid_area": null,
            "grid_auto_columns": null,
            "grid_auto_flow": null,
            "grid_auto_rows": null,
            "grid_column": null,
            "grid_gap": null,
            "grid_row": null,
            "grid_template_areas": null,
            "grid_template_columns": null,
            "grid_template_rows": null,
            "height": null,
            "justify_content": null,
            "justify_items": null,
            "left": null,
            "margin": null,
            "max_height": null,
            "max_width": null,
            "min_height": null,
            "min_width": null,
            "object_fit": null,
            "object_position": null,
            "order": null,
            "overflow": null,
            "overflow_x": null,
            "overflow_y": null,
            "padding": null,
            "right": null,
            "top": null,
            "visibility": null,
            "width": null
          }
        },
        "0d71cac64bea4cdabb9d4a147b2da860": {
          "model_module": "@jupyter-widgets/controls",
          "model_name": "ProgressStyleModel",
          "model_module_version": "1.5.0",
          "state": {
            "_model_module": "@jupyter-widgets/controls",
            "_model_module_version": "1.5.0",
            "_model_name": "ProgressStyleModel",
            "_view_count": null,
            "_view_module": "@jupyter-widgets/base",
            "_view_module_version": "1.2.0",
            "_view_name": "StyleView",
            "bar_color": null,
            "description_width": ""
          }
        },
        "c5e20772748443699bb369fcaec3f291": {
          "model_module": "@jupyter-widgets/base",
          "model_name": "LayoutModel",
          "model_module_version": "1.2.0",
          "state": {
            "_model_module": "@jupyter-widgets/base",
            "_model_module_version": "1.2.0",
            "_model_name": "LayoutModel",
            "_view_count": null,
            "_view_module": "@jupyter-widgets/base",
            "_view_module_version": "1.2.0",
            "_view_name": "LayoutView",
            "align_content": null,
            "align_items": null,
            "align_self": null,
            "border": null,
            "bottom": null,
            "display": null,
            "flex": null,
            "flex_flow": null,
            "grid_area": null,
            "grid_auto_columns": null,
            "grid_auto_flow": null,
            "grid_auto_rows": null,
            "grid_column": null,
            "grid_gap": null,
            "grid_row": null,
            "grid_template_areas": null,
            "grid_template_columns": null,
            "grid_template_rows": null,
            "height": null,
            "justify_content": null,
            "justify_items": null,
            "left": null,
            "margin": null,
            "max_height": null,
            "max_width": null,
            "min_height": null,
            "min_width": null,
            "object_fit": null,
            "object_position": null,
            "order": null,
            "overflow": null,
            "overflow_x": null,
            "overflow_y": null,
            "padding": null,
            "right": null,
            "top": null,
            "visibility": null,
            "width": null
          }
        },
        "f17b4055e0a549588ffbe48160e57386": {
          "model_module": "@jupyter-widgets/controls",
          "model_name": "DescriptionStyleModel",
          "model_module_version": "1.5.0",
          "state": {
            "_model_module": "@jupyter-widgets/controls",
            "_model_module_version": "1.5.0",
            "_model_name": "DescriptionStyleModel",
            "_view_count": null,
            "_view_module": "@jupyter-widgets/base",
            "_view_module_version": "1.2.0",
            "_view_name": "StyleView",
            "description_width": ""
          }
        },
        "f68886e99a8642ff82037a84af1dfdd9": {
          "model_module": "@jupyter-widgets/controls",
          "model_name": "HBoxModel",
          "model_module_version": "1.5.0",
          "state": {
            "_dom_classes": [],
            "_model_module": "@jupyter-widgets/controls",
            "_model_module_version": "1.5.0",
            "_model_name": "HBoxModel",
            "_view_count": null,
            "_view_module": "@jupyter-widgets/controls",
            "_view_module_version": "1.5.0",
            "_view_name": "HBoxView",
            "box_style": "",
            "children": [
              "IPY_MODEL_fabcae2c2cc14fd7b455a50362647810",
              "IPY_MODEL_ef4727a603a24f98a197a1c4381a3788",
              "IPY_MODEL_202568f80c2242c79325f2c9ef4ee259"
            ],
            "layout": "IPY_MODEL_deb37ebc3a65418baf071cb153802987"
          }
        },
        "fabcae2c2cc14fd7b455a50362647810": {
          "model_module": "@jupyter-widgets/controls",
          "model_name": "HTMLModel",
          "model_module_version": "1.5.0",
          "state": {
            "_dom_classes": [],
            "_model_module": "@jupyter-widgets/controls",
            "_model_module_version": "1.5.0",
            "_model_name": "HTMLModel",
            "_view_count": null,
            "_view_module": "@jupyter-widgets/controls",
            "_view_module_version": "1.5.0",
            "_view_name": "HTMLView",
            "description": "",
            "description_tooltip": null,
            "layout": "IPY_MODEL_a1d668ddf39f49ea8e82d17f4517575f",
            "placeholder": "​",
            "style": "IPY_MODEL_8b3a7478d6e34081935a6c0c2a311207",
            "value": "vocab.txt: 100%"
          }
        },
        "ef4727a603a24f98a197a1c4381a3788": {
          "model_module": "@jupyter-widgets/controls",
          "model_name": "FloatProgressModel",
          "model_module_version": "1.5.0",
          "state": {
            "_dom_classes": [],
            "_model_module": "@jupyter-widgets/controls",
            "_model_module_version": "1.5.0",
            "_model_name": "FloatProgressModel",
            "_view_count": null,
            "_view_module": "@jupyter-widgets/controls",
            "_view_module_version": "1.5.0",
            "_view_name": "ProgressView",
            "bar_style": "success",
            "description": "",
            "description_tooltip": null,
            "layout": "IPY_MODEL_8a3cdab8cc604f36938977b7cba14327",
            "max": 231508,
            "min": 0,
            "orientation": "horizontal",
            "style": "IPY_MODEL_63d8918d16724a2fa27585b4bdca1fdb",
            "value": 231508
          }
        },
        "202568f80c2242c79325f2c9ef4ee259": {
          "model_module": "@jupyter-widgets/controls",
          "model_name": "HTMLModel",
          "model_module_version": "1.5.0",
          "state": {
            "_dom_classes": [],
            "_model_module": "@jupyter-widgets/controls",
            "_model_module_version": "1.5.0",
            "_model_name": "HTMLModel",
            "_view_count": null,
            "_view_module": "@jupyter-widgets/controls",
            "_view_module_version": "1.5.0",
            "_view_name": "HTMLView",
            "description": "",
            "description_tooltip": null,
            "layout": "IPY_MODEL_8783157d9e4a45949395ea7b87aa294c",
            "placeholder": "​",
            "style": "IPY_MODEL_52f4a7b45da34424a5e8485ebc53eca7",
            "value": " 232k/232k [00:00&lt;00:00, 2.23MB/s]"
          }
        },
        "deb37ebc3a65418baf071cb153802987": {
          "model_module": "@jupyter-widgets/base",
          "model_name": "LayoutModel",
          "model_module_version": "1.2.0",
          "state": {
            "_model_module": "@jupyter-widgets/base",
            "_model_module_version": "1.2.0",
            "_model_name": "LayoutModel",
            "_view_count": null,
            "_view_module": "@jupyter-widgets/base",
            "_view_module_version": "1.2.0",
            "_view_name": "LayoutView",
            "align_content": null,
            "align_items": null,
            "align_self": null,
            "border": null,
            "bottom": null,
            "display": null,
            "flex": null,
            "flex_flow": null,
            "grid_area": null,
            "grid_auto_columns": null,
            "grid_auto_flow": null,
            "grid_auto_rows": null,
            "grid_column": null,
            "grid_gap": null,
            "grid_row": null,
            "grid_template_areas": null,
            "grid_template_columns": null,
            "grid_template_rows": null,
            "height": null,
            "justify_content": null,
            "justify_items": null,
            "left": null,
            "margin": null,
            "max_height": null,
            "max_width": null,
            "min_height": null,
            "min_width": null,
            "object_fit": null,
            "object_position": null,
            "order": null,
            "overflow": null,
            "overflow_x": null,
            "overflow_y": null,
            "padding": null,
            "right": null,
            "top": null,
            "visibility": null,
            "width": null
          }
        },
        "a1d668ddf39f49ea8e82d17f4517575f": {
          "model_module": "@jupyter-widgets/base",
          "model_name": "LayoutModel",
          "model_module_version": "1.2.0",
          "state": {
            "_model_module": "@jupyter-widgets/base",
            "_model_module_version": "1.2.0",
            "_model_name": "LayoutModel",
            "_view_count": null,
            "_view_module": "@jupyter-widgets/base",
            "_view_module_version": "1.2.0",
            "_view_name": "LayoutView",
            "align_content": null,
            "align_items": null,
            "align_self": null,
            "border": null,
            "bottom": null,
            "display": null,
            "flex": null,
            "flex_flow": null,
            "grid_area": null,
            "grid_auto_columns": null,
            "grid_auto_flow": null,
            "grid_auto_rows": null,
            "grid_column": null,
            "grid_gap": null,
            "grid_row": null,
            "grid_template_areas": null,
            "grid_template_columns": null,
            "grid_template_rows": null,
            "height": null,
            "justify_content": null,
            "justify_items": null,
            "left": null,
            "margin": null,
            "max_height": null,
            "max_width": null,
            "min_height": null,
            "min_width": null,
            "object_fit": null,
            "object_position": null,
            "order": null,
            "overflow": null,
            "overflow_x": null,
            "overflow_y": null,
            "padding": null,
            "right": null,
            "top": null,
            "visibility": null,
            "width": null
          }
        },
        "8b3a7478d6e34081935a6c0c2a311207": {
          "model_module": "@jupyter-widgets/controls",
          "model_name": "DescriptionStyleModel",
          "model_module_version": "1.5.0",
          "state": {
            "_model_module": "@jupyter-widgets/controls",
            "_model_module_version": "1.5.0",
            "_model_name": "DescriptionStyleModel",
            "_view_count": null,
            "_view_module": "@jupyter-widgets/base",
            "_view_module_version": "1.2.0",
            "_view_name": "StyleView",
            "description_width": ""
          }
        },
        "8a3cdab8cc604f36938977b7cba14327": {
          "model_module": "@jupyter-widgets/base",
          "model_name": "LayoutModel",
          "model_module_version": "1.2.0",
          "state": {
            "_model_module": "@jupyter-widgets/base",
            "_model_module_version": "1.2.0",
            "_model_name": "LayoutModel",
            "_view_count": null,
            "_view_module": "@jupyter-widgets/base",
            "_view_module_version": "1.2.0",
            "_view_name": "LayoutView",
            "align_content": null,
            "align_items": null,
            "align_self": null,
            "border": null,
            "bottom": null,
            "display": null,
            "flex": null,
            "flex_flow": null,
            "grid_area": null,
            "grid_auto_columns": null,
            "grid_auto_flow": null,
            "grid_auto_rows": null,
            "grid_column": null,
            "grid_gap": null,
            "grid_row": null,
            "grid_template_areas": null,
            "grid_template_columns": null,
            "grid_template_rows": null,
            "height": null,
            "justify_content": null,
            "justify_items": null,
            "left": null,
            "margin": null,
            "max_height": null,
            "max_width": null,
            "min_height": null,
            "min_width": null,
            "object_fit": null,
            "object_position": null,
            "order": null,
            "overflow": null,
            "overflow_x": null,
            "overflow_y": null,
            "padding": null,
            "right": null,
            "top": null,
            "visibility": null,
            "width": null
          }
        },
        "63d8918d16724a2fa27585b4bdca1fdb": {
          "model_module": "@jupyter-widgets/controls",
          "model_name": "ProgressStyleModel",
          "model_module_version": "1.5.0",
          "state": {
            "_model_module": "@jupyter-widgets/controls",
            "_model_module_version": "1.5.0",
            "_model_name": "ProgressStyleModel",
            "_view_count": null,
            "_view_module": "@jupyter-widgets/base",
            "_view_module_version": "1.2.0",
            "_view_name": "StyleView",
            "bar_color": null,
            "description_width": ""
          }
        },
        "8783157d9e4a45949395ea7b87aa294c": {
          "model_module": "@jupyter-widgets/base",
          "model_name": "LayoutModel",
          "model_module_version": "1.2.0",
          "state": {
            "_model_module": "@jupyter-widgets/base",
            "_model_module_version": "1.2.0",
            "_model_name": "LayoutModel",
            "_view_count": null,
            "_view_module": "@jupyter-widgets/base",
            "_view_module_version": "1.2.0",
            "_view_name": "LayoutView",
            "align_content": null,
            "align_items": null,
            "align_self": null,
            "border": null,
            "bottom": null,
            "display": null,
            "flex": null,
            "flex_flow": null,
            "grid_area": null,
            "grid_auto_columns": null,
            "grid_auto_flow": null,
            "grid_auto_rows": null,
            "grid_column": null,
            "grid_gap": null,
            "grid_row": null,
            "grid_template_areas": null,
            "grid_template_columns": null,
            "grid_template_rows": null,
            "height": null,
            "justify_content": null,
            "justify_items": null,
            "left": null,
            "margin": null,
            "max_height": null,
            "max_width": null,
            "min_height": null,
            "min_width": null,
            "object_fit": null,
            "object_position": null,
            "order": null,
            "overflow": null,
            "overflow_x": null,
            "overflow_y": null,
            "padding": null,
            "right": null,
            "top": null,
            "visibility": null,
            "width": null
          }
        },
        "52f4a7b45da34424a5e8485ebc53eca7": {
          "model_module": "@jupyter-widgets/controls",
          "model_name": "DescriptionStyleModel",
          "model_module_version": "1.5.0",
          "state": {
            "_model_module": "@jupyter-widgets/controls",
            "_model_module_version": "1.5.0",
            "_model_name": "DescriptionStyleModel",
            "_view_count": null,
            "_view_module": "@jupyter-widgets/base",
            "_view_module_version": "1.2.0",
            "_view_name": "StyleView",
            "description_width": ""
          }
        },
        "cf0c676b772947b6baa79cac84f57647": {
          "model_module": "@jupyter-widgets/controls",
          "model_name": "HBoxModel",
          "model_module_version": "1.5.0",
          "state": {
            "_dom_classes": [],
            "_model_module": "@jupyter-widgets/controls",
            "_model_module_version": "1.5.0",
            "_model_name": "HBoxModel",
            "_view_count": null,
            "_view_module": "@jupyter-widgets/controls",
            "_view_module_version": "1.5.0",
            "_view_name": "HBoxView",
            "box_style": "",
            "children": [
              "IPY_MODEL_f13b0a01bcf1448687ef6e7a13d07fad",
              "IPY_MODEL_f7da5ede5cad48099b2c644ec59af8da",
              "IPY_MODEL_918dea6506184b419f211fd3f396d877"
            ],
            "layout": "IPY_MODEL_1b5f3770d1234830ab45ffbcfc4a20d2"
          }
        },
        "f13b0a01bcf1448687ef6e7a13d07fad": {
          "model_module": "@jupyter-widgets/controls",
          "model_name": "HTMLModel",
          "model_module_version": "1.5.0",
          "state": {
            "_dom_classes": [],
            "_model_module": "@jupyter-widgets/controls",
            "_model_module_version": "1.5.0",
            "_model_name": "HTMLModel",
            "_view_count": null,
            "_view_module": "@jupyter-widgets/controls",
            "_view_module_version": "1.5.0",
            "_view_name": "HTMLView",
            "description": "",
            "description_tooltip": null,
            "layout": "IPY_MODEL_b326f0c57f57467db358fb5715c4c360",
            "placeholder": "​",
            "style": "IPY_MODEL_78de40591d3e4c50aa0a8445995c6480",
            "value": "tokenizer.json: 100%"
          }
        },
        "f7da5ede5cad48099b2c644ec59af8da": {
          "model_module": "@jupyter-widgets/controls",
          "model_name": "FloatProgressModel",
          "model_module_version": "1.5.0",
          "state": {
            "_dom_classes": [],
            "_model_module": "@jupyter-widgets/controls",
            "_model_module_version": "1.5.0",
            "_model_name": "FloatProgressModel",
            "_view_count": null,
            "_view_module": "@jupyter-widgets/controls",
            "_view_module_version": "1.5.0",
            "_view_name": "ProgressView",
            "bar_style": "success",
            "description": "",
            "description_tooltip": null,
            "layout": "IPY_MODEL_17b5c45e12d348439c6a68cdae7b6e68",
            "max": 466062,
            "min": 0,
            "orientation": "horizontal",
            "style": "IPY_MODEL_8ba4d0f3a785436f91f951c51ed74386",
            "value": 466062
          }
        },
        "918dea6506184b419f211fd3f396d877": {
          "model_module": "@jupyter-widgets/controls",
          "model_name": "HTMLModel",
          "model_module_version": "1.5.0",
          "state": {
            "_dom_classes": [],
            "_model_module": "@jupyter-widgets/controls",
            "_model_module_version": "1.5.0",
            "_model_name": "HTMLModel",
            "_view_count": null,
            "_view_module": "@jupyter-widgets/controls",
            "_view_module_version": "1.5.0",
            "_view_name": "HTMLView",
            "description": "",
            "description_tooltip": null,
            "layout": "IPY_MODEL_e2caada3f1134a55a1234f870ff70d20",
            "placeholder": "​",
            "style": "IPY_MODEL_6a0b0923ede646c09dd7ba1fb7e7f1c5",
            "value": " 466k/466k [00:00&lt;00:00, 12.7MB/s]"
          }
        },
        "1b5f3770d1234830ab45ffbcfc4a20d2": {
          "model_module": "@jupyter-widgets/base",
          "model_name": "LayoutModel",
          "model_module_version": "1.2.0",
          "state": {
            "_model_module": "@jupyter-widgets/base",
            "_model_module_version": "1.2.0",
            "_model_name": "LayoutModel",
            "_view_count": null,
            "_view_module": "@jupyter-widgets/base",
            "_view_module_version": "1.2.0",
            "_view_name": "LayoutView",
            "align_content": null,
            "align_items": null,
            "align_self": null,
            "border": null,
            "bottom": null,
            "display": null,
            "flex": null,
            "flex_flow": null,
            "grid_area": null,
            "grid_auto_columns": null,
            "grid_auto_flow": null,
            "grid_auto_rows": null,
            "grid_column": null,
            "grid_gap": null,
            "grid_row": null,
            "grid_template_areas": null,
            "grid_template_columns": null,
            "grid_template_rows": null,
            "height": null,
            "justify_content": null,
            "justify_items": null,
            "left": null,
            "margin": null,
            "max_height": null,
            "max_width": null,
            "min_height": null,
            "min_width": null,
            "object_fit": null,
            "object_position": null,
            "order": null,
            "overflow": null,
            "overflow_x": null,
            "overflow_y": null,
            "padding": null,
            "right": null,
            "top": null,
            "visibility": null,
            "width": null
          }
        },
        "b326f0c57f57467db358fb5715c4c360": {
          "model_module": "@jupyter-widgets/base",
          "model_name": "LayoutModel",
          "model_module_version": "1.2.0",
          "state": {
            "_model_module": "@jupyter-widgets/base",
            "_model_module_version": "1.2.0",
            "_model_name": "LayoutModel",
            "_view_count": null,
            "_view_module": "@jupyter-widgets/base",
            "_view_module_version": "1.2.0",
            "_view_name": "LayoutView",
            "align_content": null,
            "align_items": null,
            "align_self": null,
            "border": null,
            "bottom": null,
            "display": null,
            "flex": null,
            "flex_flow": null,
            "grid_area": null,
            "grid_auto_columns": null,
            "grid_auto_flow": null,
            "grid_auto_rows": null,
            "grid_column": null,
            "grid_gap": null,
            "grid_row": null,
            "grid_template_areas": null,
            "grid_template_columns": null,
            "grid_template_rows": null,
            "height": null,
            "justify_content": null,
            "justify_items": null,
            "left": null,
            "margin": null,
            "max_height": null,
            "max_width": null,
            "min_height": null,
            "min_width": null,
            "object_fit": null,
            "object_position": null,
            "order": null,
            "overflow": null,
            "overflow_x": null,
            "overflow_y": null,
            "padding": null,
            "right": null,
            "top": null,
            "visibility": null,
            "width": null
          }
        },
        "78de40591d3e4c50aa0a8445995c6480": {
          "model_module": "@jupyter-widgets/controls",
          "model_name": "DescriptionStyleModel",
          "model_module_version": "1.5.0",
          "state": {
            "_model_module": "@jupyter-widgets/controls",
            "_model_module_version": "1.5.0",
            "_model_name": "DescriptionStyleModel",
            "_view_count": null,
            "_view_module": "@jupyter-widgets/base",
            "_view_module_version": "1.2.0",
            "_view_name": "StyleView",
            "description_width": ""
          }
        },
        "17b5c45e12d348439c6a68cdae7b6e68": {
          "model_module": "@jupyter-widgets/base",
          "model_name": "LayoutModel",
          "model_module_version": "1.2.0",
          "state": {
            "_model_module": "@jupyter-widgets/base",
            "_model_module_version": "1.2.0",
            "_model_name": "LayoutModel",
            "_view_count": null,
            "_view_module": "@jupyter-widgets/base",
            "_view_module_version": "1.2.0",
            "_view_name": "LayoutView",
            "align_content": null,
            "align_items": null,
            "align_self": null,
            "border": null,
            "bottom": null,
            "display": null,
            "flex": null,
            "flex_flow": null,
            "grid_area": null,
            "grid_auto_columns": null,
            "grid_auto_flow": null,
            "grid_auto_rows": null,
            "grid_column": null,
            "grid_gap": null,
            "grid_row": null,
            "grid_template_areas": null,
            "grid_template_columns": null,
            "grid_template_rows": null,
            "height": null,
            "justify_content": null,
            "justify_items": null,
            "left": null,
            "margin": null,
            "max_height": null,
            "max_width": null,
            "min_height": null,
            "min_width": null,
            "object_fit": null,
            "object_position": null,
            "order": null,
            "overflow": null,
            "overflow_x": null,
            "overflow_y": null,
            "padding": null,
            "right": null,
            "top": null,
            "visibility": null,
            "width": null
          }
        },
        "8ba4d0f3a785436f91f951c51ed74386": {
          "model_module": "@jupyter-widgets/controls",
          "model_name": "ProgressStyleModel",
          "model_module_version": "1.5.0",
          "state": {
            "_model_module": "@jupyter-widgets/controls",
            "_model_module_version": "1.5.0",
            "_model_name": "ProgressStyleModel",
            "_view_count": null,
            "_view_module": "@jupyter-widgets/base",
            "_view_module_version": "1.2.0",
            "_view_name": "StyleView",
            "bar_color": null,
            "description_width": ""
          }
        },
        "e2caada3f1134a55a1234f870ff70d20": {
          "model_module": "@jupyter-widgets/base",
          "model_name": "LayoutModel",
          "model_module_version": "1.2.0",
          "state": {
            "_model_module": "@jupyter-widgets/base",
            "_model_module_version": "1.2.0",
            "_model_name": "LayoutModel",
            "_view_count": null,
            "_view_module": "@jupyter-widgets/base",
            "_view_module_version": "1.2.0",
            "_view_name": "LayoutView",
            "align_content": null,
            "align_items": null,
            "align_self": null,
            "border": null,
            "bottom": null,
            "display": null,
            "flex": null,
            "flex_flow": null,
            "grid_area": null,
            "grid_auto_columns": null,
            "grid_auto_flow": null,
            "grid_auto_rows": null,
            "grid_column": null,
            "grid_gap": null,
            "grid_row": null,
            "grid_template_areas": null,
            "grid_template_columns": null,
            "grid_template_rows": null,
            "height": null,
            "justify_content": null,
            "justify_items": null,
            "left": null,
            "margin": null,
            "max_height": null,
            "max_width": null,
            "min_height": null,
            "min_width": null,
            "object_fit": null,
            "object_position": null,
            "order": null,
            "overflow": null,
            "overflow_x": null,
            "overflow_y": null,
            "padding": null,
            "right": null,
            "top": null,
            "visibility": null,
            "width": null
          }
        },
        "6a0b0923ede646c09dd7ba1fb7e7f1c5": {
          "model_module": "@jupyter-widgets/controls",
          "model_name": "DescriptionStyleModel",
          "model_module_version": "1.5.0",
          "state": {
            "_model_module": "@jupyter-widgets/controls",
            "_model_module_version": "1.5.0",
            "_model_name": "DescriptionStyleModel",
            "_view_count": null,
            "_view_module": "@jupyter-widgets/base",
            "_view_module_version": "1.2.0",
            "_view_name": "StyleView",
            "description_width": ""
          }
        },
        "910a971651ba48abbd60826fb17b1b45": {
          "model_module": "@jupyter-widgets/controls",
          "model_name": "HBoxModel",
          "model_module_version": "1.5.0",
          "state": {
            "_dom_classes": [],
            "_model_module": "@jupyter-widgets/controls",
            "_model_module_version": "1.5.0",
            "_model_name": "HBoxModel",
            "_view_count": null,
            "_view_module": "@jupyter-widgets/controls",
            "_view_module_version": "1.5.0",
            "_view_name": "HBoxView",
            "box_style": "",
            "children": [
              "IPY_MODEL_d9a04989101c456ba692bcc83a219df4",
              "IPY_MODEL_647fc2b71406440288642328a159fb4b",
              "IPY_MODEL_011734cb88804a88baf923a556964820"
            ],
            "layout": "IPY_MODEL_7f15d25502ce4b7cbc80eea33589dbb7"
          }
        },
        "d9a04989101c456ba692bcc83a219df4": {
          "model_module": "@jupyter-widgets/controls",
          "model_name": "HTMLModel",
          "model_module_version": "1.5.0",
          "state": {
            "_dom_classes": [],
            "_model_module": "@jupyter-widgets/controls",
            "_model_module_version": "1.5.0",
            "_model_name": "HTMLModel",
            "_view_count": null,
            "_view_module": "@jupyter-widgets/controls",
            "_view_module_version": "1.5.0",
            "_view_name": "HTMLView",
            "description": "",
            "description_tooltip": null,
            "layout": "IPY_MODEL_4e67ce33b5f2464ea42d60b6e19b3cc3",
            "placeholder": "​",
            "style": "IPY_MODEL_cacd93f55b5245389d030d1f47423796",
            "value": "config.json: 100%"
          }
        },
        "647fc2b71406440288642328a159fb4b": {
          "model_module": "@jupyter-widgets/controls",
          "model_name": "FloatProgressModel",
          "model_module_version": "1.5.0",
          "state": {
            "_dom_classes": [],
            "_model_module": "@jupyter-widgets/controls",
            "_model_module_version": "1.5.0",
            "_model_name": "FloatProgressModel",
            "_view_count": null,
            "_view_module": "@jupyter-widgets/controls",
            "_view_module_version": "1.5.0",
            "_view_name": "ProgressView",
            "bar_style": "success",
            "description": "",
            "description_tooltip": null,
            "layout": "IPY_MODEL_6a0f170097f245329fe58d32f10c6e15",
            "max": 570,
            "min": 0,
            "orientation": "horizontal",
            "style": "IPY_MODEL_a529b69aa29040debe66b1cda78f33ac",
            "value": 570
          }
        },
        "011734cb88804a88baf923a556964820": {
          "model_module": "@jupyter-widgets/controls",
          "model_name": "HTMLModel",
          "model_module_version": "1.5.0",
          "state": {
            "_dom_classes": [],
            "_model_module": "@jupyter-widgets/controls",
            "_model_module_version": "1.5.0",
            "_model_name": "HTMLModel",
            "_view_count": null,
            "_view_module": "@jupyter-widgets/controls",
            "_view_module_version": "1.5.0",
            "_view_name": "HTMLView",
            "description": "",
            "description_tooltip": null,
            "layout": "IPY_MODEL_0613b5c8e1594b0ba9133dae4f3f7ae0",
            "placeholder": "​",
            "style": "IPY_MODEL_b11fb3a7bc164192986053bf3cfa77b4",
            "value": " 570/570 [00:00&lt;00:00, 12.1kB/s]"
          }
        },
        "7f15d25502ce4b7cbc80eea33589dbb7": {
          "model_module": "@jupyter-widgets/base",
          "model_name": "LayoutModel",
          "model_module_version": "1.2.0",
          "state": {
            "_model_module": "@jupyter-widgets/base",
            "_model_module_version": "1.2.0",
            "_model_name": "LayoutModel",
            "_view_count": null,
            "_view_module": "@jupyter-widgets/base",
            "_view_module_version": "1.2.0",
            "_view_name": "LayoutView",
            "align_content": null,
            "align_items": null,
            "align_self": null,
            "border": null,
            "bottom": null,
            "display": null,
            "flex": null,
            "flex_flow": null,
            "grid_area": null,
            "grid_auto_columns": null,
            "grid_auto_flow": null,
            "grid_auto_rows": null,
            "grid_column": null,
            "grid_gap": null,
            "grid_row": null,
            "grid_template_areas": null,
            "grid_template_columns": null,
            "grid_template_rows": null,
            "height": null,
            "justify_content": null,
            "justify_items": null,
            "left": null,
            "margin": null,
            "max_height": null,
            "max_width": null,
            "min_height": null,
            "min_width": null,
            "object_fit": null,
            "object_position": null,
            "order": null,
            "overflow": null,
            "overflow_x": null,
            "overflow_y": null,
            "padding": null,
            "right": null,
            "top": null,
            "visibility": null,
            "width": null
          }
        },
        "4e67ce33b5f2464ea42d60b6e19b3cc3": {
          "model_module": "@jupyter-widgets/base",
          "model_name": "LayoutModel",
          "model_module_version": "1.2.0",
          "state": {
            "_model_module": "@jupyter-widgets/base",
            "_model_module_version": "1.2.0",
            "_model_name": "LayoutModel",
            "_view_count": null,
            "_view_module": "@jupyter-widgets/base",
            "_view_module_version": "1.2.0",
            "_view_name": "LayoutView",
            "align_content": null,
            "align_items": null,
            "align_self": null,
            "border": null,
            "bottom": null,
            "display": null,
            "flex": null,
            "flex_flow": null,
            "grid_area": null,
            "grid_auto_columns": null,
            "grid_auto_flow": null,
            "grid_auto_rows": null,
            "grid_column": null,
            "grid_gap": null,
            "grid_row": null,
            "grid_template_areas": null,
            "grid_template_columns": null,
            "grid_template_rows": null,
            "height": null,
            "justify_content": null,
            "justify_items": null,
            "left": null,
            "margin": null,
            "max_height": null,
            "max_width": null,
            "min_height": null,
            "min_width": null,
            "object_fit": null,
            "object_position": null,
            "order": null,
            "overflow": null,
            "overflow_x": null,
            "overflow_y": null,
            "padding": null,
            "right": null,
            "top": null,
            "visibility": null,
            "width": null
          }
        },
        "cacd93f55b5245389d030d1f47423796": {
          "model_module": "@jupyter-widgets/controls",
          "model_name": "DescriptionStyleModel",
          "model_module_version": "1.5.0",
          "state": {
            "_model_module": "@jupyter-widgets/controls",
            "_model_module_version": "1.5.0",
            "_model_name": "DescriptionStyleModel",
            "_view_count": null,
            "_view_module": "@jupyter-widgets/base",
            "_view_module_version": "1.2.0",
            "_view_name": "StyleView",
            "description_width": ""
          }
        },
        "6a0f170097f245329fe58d32f10c6e15": {
          "model_module": "@jupyter-widgets/base",
          "model_name": "LayoutModel",
          "model_module_version": "1.2.0",
          "state": {
            "_model_module": "@jupyter-widgets/base",
            "_model_module_version": "1.2.0",
            "_model_name": "LayoutModel",
            "_view_count": null,
            "_view_module": "@jupyter-widgets/base",
            "_view_module_version": "1.2.0",
            "_view_name": "LayoutView",
            "align_content": null,
            "align_items": null,
            "align_self": null,
            "border": null,
            "bottom": null,
            "display": null,
            "flex": null,
            "flex_flow": null,
            "grid_area": null,
            "grid_auto_columns": null,
            "grid_auto_flow": null,
            "grid_auto_rows": null,
            "grid_column": null,
            "grid_gap": null,
            "grid_row": null,
            "grid_template_areas": null,
            "grid_template_columns": null,
            "grid_template_rows": null,
            "height": null,
            "justify_content": null,
            "justify_items": null,
            "left": null,
            "margin": null,
            "max_height": null,
            "max_width": null,
            "min_height": null,
            "min_width": null,
            "object_fit": null,
            "object_position": null,
            "order": null,
            "overflow": null,
            "overflow_x": null,
            "overflow_y": null,
            "padding": null,
            "right": null,
            "top": null,
            "visibility": null,
            "width": null
          }
        },
        "a529b69aa29040debe66b1cda78f33ac": {
          "model_module": "@jupyter-widgets/controls",
          "model_name": "ProgressStyleModel",
          "model_module_version": "1.5.0",
          "state": {
            "_model_module": "@jupyter-widgets/controls",
            "_model_module_version": "1.5.0",
            "_model_name": "ProgressStyleModel",
            "_view_count": null,
            "_view_module": "@jupyter-widgets/base",
            "_view_module_version": "1.2.0",
            "_view_name": "StyleView",
            "bar_color": null,
            "description_width": ""
          }
        },
        "0613b5c8e1594b0ba9133dae4f3f7ae0": {
          "model_module": "@jupyter-widgets/base",
          "model_name": "LayoutModel",
          "model_module_version": "1.2.0",
          "state": {
            "_model_module": "@jupyter-widgets/base",
            "_model_module_version": "1.2.0",
            "_model_name": "LayoutModel",
            "_view_count": null,
            "_view_module": "@jupyter-widgets/base",
            "_view_module_version": "1.2.0",
            "_view_name": "LayoutView",
            "align_content": null,
            "align_items": null,
            "align_self": null,
            "border": null,
            "bottom": null,
            "display": null,
            "flex": null,
            "flex_flow": null,
            "grid_area": null,
            "grid_auto_columns": null,
            "grid_auto_flow": null,
            "grid_auto_rows": null,
            "grid_column": null,
            "grid_gap": null,
            "grid_row": null,
            "grid_template_areas": null,
            "grid_template_columns": null,
            "grid_template_rows": null,
            "height": null,
            "justify_content": null,
            "justify_items": null,
            "left": null,
            "margin": null,
            "max_height": null,
            "max_width": null,
            "min_height": null,
            "min_width": null,
            "object_fit": null,
            "object_position": null,
            "order": null,
            "overflow": null,
            "overflow_x": null,
            "overflow_y": null,
            "padding": null,
            "right": null,
            "top": null,
            "visibility": null,
            "width": null
          }
        },
        "b11fb3a7bc164192986053bf3cfa77b4": {
          "model_module": "@jupyter-widgets/controls",
          "model_name": "DescriptionStyleModel",
          "model_module_version": "1.5.0",
          "state": {
            "_model_module": "@jupyter-widgets/controls",
            "_model_module_version": "1.5.0",
            "_model_name": "DescriptionStyleModel",
            "_view_count": null,
            "_view_module": "@jupyter-widgets/base",
            "_view_module_version": "1.2.0",
            "_view_name": "StyleView",
            "description_width": ""
          }
        },
        "a32ff9fc71d340f0a0c14260d60bbc4f": {
          "model_module": "@jupyter-widgets/controls",
          "model_name": "HBoxModel",
          "model_module_version": "1.5.0",
          "state": {
            "_dom_classes": [],
            "_model_module": "@jupyter-widgets/controls",
            "_model_module_version": "1.5.0",
            "_model_name": "HBoxModel",
            "_view_count": null,
            "_view_module": "@jupyter-widgets/controls",
            "_view_module_version": "1.5.0",
            "_view_name": "HBoxView",
            "box_style": "",
            "children": [
              "IPY_MODEL_8908462aa18046b19a94d85c7174e935",
              "IPY_MODEL_b1caf1c946004ef489d26b65bce12f20",
              "IPY_MODEL_f1280dfe526f49bc80a782b461ebbdf0"
            ],
            "layout": "IPY_MODEL_eeb8723f13524c2985d7683611917e54"
          }
        },
        "8908462aa18046b19a94d85c7174e935": {
          "model_module": "@jupyter-widgets/controls",
          "model_name": "HTMLModel",
          "model_module_version": "1.5.0",
          "state": {
            "_dom_classes": [],
            "_model_module": "@jupyter-widgets/controls",
            "_model_module_version": "1.5.0",
            "_model_name": "HTMLModel",
            "_view_count": null,
            "_view_module": "@jupyter-widgets/controls",
            "_view_module_version": "1.5.0",
            "_view_name": "HTMLView",
            "description": "",
            "description_tooltip": null,
            "layout": "IPY_MODEL_bb9afb2fb7ff4d95a936a0f12ed2bc0c",
            "placeholder": "​",
            "style": "IPY_MODEL_3d17cb8db9ca4d0f847a99dbc9cdb408",
            "value": "model.safetensors: 100%"
          }
        },
        "b1caf1c946004ef489d26b65bce12f20": {
          "model_module": "@jupyter-widgets/controls",
          "model_name": "FloatProgressModel",
          "model_module_version": "1.5.0",
          "state": {
            "_dom_classes": [],
            "_model_module": "@jupyter-widgets/controls",
            "_model_module_version": "1.5.0",
            "_model_name": "FloatProgressModel",
            "_view_count": null,
            "_view_module": "@jupyter-widgets/controls",
            "_view_module_version": "1.5.0",
            "_view_name": "ProgressView",
            "bar_style": "success",
            "description": "",
            "description_tooltip": null,
            "layout": "IPY_MODEL_6f8a2be404514eb1abb3fdc2a7ed4a51",
            "max": 440449768,
            "min": 0,
            "orientation": "horizontal",
            "style": "IPY_MODEL_48ab18f5126c457294ea611e1841bb30",
            "value": 440449768
          }
        },
        "f1280dfe526f49bc80a782b461ebbdf0": {
          "model_module": "@jupyter-widgets/controls",
          "model_name": "HTMLModel",
          "model_module_version": "1.5.0",
          "state": {
            "_dom_classes": [],
            "_model_module": "@jupyter-widgets/controls",
            "_model_module_version": "1.5.0",
            "_model_name": "HTMLModel",
            "_view_count": null,
            "_view_module": "@jupyter-widgets/controls",
            "_view_module_version": "1.5.0",
            "_view_name": "HTMLView",
            "description": "",
            "description_tooltip": null,
            "layout": "IPY_MODEL_9ef72d9df45e439e80ff0047c990ca2e",
            "placeholder": "​",
            "style": "IPY_MODEL_1f0a2b534b13451583a3e68337811a41",
            "value": " 440M/440M [00:01&lt;00:00, 233MB/s]"
          }
        },
        "eeb8723f13524c2985d7683611917e54": {
          "model_module": "@jupyter-widgets/base",
          "model_name": "LayoutModel",
          "model_module_version": "1.2.0",
          "state": {
            "_model_module": "@jupyter-widgets/base",
            "_model_module_version": "1.2.0",
            "_model_name": "LayoutModel",
            "_view_count": null,
            "_view_module": "@jupyter-widgets/base",
            "_view_module_version": "1.2.0",
            "_view_name": "LayoutView",
            "align_content": null,
            "align_items": null,
            "align_self": null,
            "border": null,
            "bottom": null,
            "display": null,
            "flex": null,
            "flex_flow": null,
            "grid_area": null,
            "grid_auto_columns": null,
            "grid_auto_flow": null,
            "grid_auto_rows": null,
            "grid_column": null,
            "grid_gap": null,
            "grid_row": null,
            "grid_template_areas": null,
            "grid_template_columns": null,
            "grid_template_rows": null,
            "height": null,
            "justify_content": null,
            "justify_items": null,
            "left": null,
            "margin": null,
            "max_height": null,
            "max_width": null,
            "min_height": null,
            "min_width": null,
            "object_fit": null,
            "object_position": null,
            "order": null,
            "overflow": null,
            "overflow_x": null,
            "overflow_y": null,
            "padding": null,
            "right": null,
            "top": null,
            "visibility": null,
            "width": null
          }
        },
        "bb9afb2fb7ff4d95a936a0f12ed2bc0c": {
          "model_module": "@jupyter-widgets/base",
          "model_name": "LayoutModel",
          "model_module_version": "1.2.0",
          "state": {
            "_model_module": "@jupyter-widgets/base",
            "_model_module_version": "1.2.0",
            "_model_name": "LayoutModel",
            "_view_count": null,
            "_view_module": "@jupyter-widgets/base",
            "_view_module_version": "1.2.0",
            "_view_name": "LayoutView",
            "align_content": null,
            "align_items": null,
            "align_self": null,
            "border": null,
            "bottom": null,
            "display": null,
            "flex": null,
            "flex_flow": null,
            "grid_area": null,
            "grid_auto_columns": null,
            "grid_auto_flow": null,
            "grid_auto_rows": null,
            "grid_column": null,
            "grid_gap": null,
            "grid_row": null,
            "grid_template_areas": null,
            "grid_template_columns": null,
            "grid_template_rows": null,
            "height": null,
            "justify_content": null,
            "justify_items": null,
            "left": null,
            "margin": null,
            "max_height": null,
            "max_width": null,
            "min_height": null,
            "min_width": null,
            "object_fit": null,
            "object_position": null,
            "order": null,
            "overflow": null,
            "overflow_x": null,
            "overflow_y": null,
            "padding": null,
            "right": null,
            "top": null,
            "visibility": null,
            "width": null
          }
        },
        "3d17cb8db9ca4d0f847a99dbc9cdb408": {
          "model_module": "@jupyter-widgets/controls",
          "model_name": "DescriptionStyleModel",
          "model_module_version": "1.5.0",
          "state": {
            "_model_module": "@jupyter-widgets/controls",
            "_model_module_version": "1.5.0",
            "_model_name": "DescriptionStyleModel",
            "_view_count": null,
            "_view_module": "@jupyter-widgets/base",
            "_view_module_version": "1.2.0",
            "_view_name": "StyleView",
            "description_width": ""
          }
        },
        "6f8a2be404514eb1abb3fdc2a7ed4a51": {
          "model_module": "@jupyter-widgets/base",
          "model_name": "LayoutModel",
          "model_module_version": "1.2.0",
          "state": {
            "_model_module": "@jupyter-widgets/base",
            "_model_module_version": "1.2.0",
            "_model_name": "LayoutModel",
            "_view_count": null,
            "_view_module": "@jupyter-widgets/base",
            "_view_module_version": "1.2.0",
            "_view_name": "LayoutView",
            "align_content": null,
            "align_items": null,
            "align_self": null,
            "border": null,
            "bottom": null,
            "display": null,
            "flex": null,
            "flex_flow": null,
            "grid_area": null,
            "grid_auto_columns": null,
            "grid_auto_flow": null,
            "grid_auto_rows": null,
            "grid_column": null,
            "grid_gap": null,
            "grid_row": null,
            "grid_template_areas": null,
            "grid_template_columns": null,
            "grid_template_rows": null,
            "height": null,
            "justify_content": null,
            "justify_items": null,
            "left": null,
            "margin": null,
            "max_height": null,
            "max_width": null,
            "min_height": null,
            "min_width": null,
            "object_fit": null,
            "object_position": null,
            "order": null,
            "overflow": null,
            "overflow_x": null,
            "overflow_y": null,
            "padding": null,
            "right": null,
            "top": null,
            "visibility": null,
            "width": null
          }
        },
        "48ab18f5126c457294ea611e1841bb30": {
          "model_module": "@jupyter-widgets/controls",
          "model_name": "ProgressStyleModel",
          "model_module_version": "1.5.0",
          "state": {
            "_model_module": "@jupyter-widgets/controls",
            "_model_module_version": "1.5.0",
            "_model_name": "ProgressStyleModel",
            "_view_count": null,
            "_view_module": "@jupyter-widgets/base",
            "_view_module_version": "1.2.0",
            "_view_name": "StyleView",
            "bar_color": null,
            "description_width": ""
          }
        },
        "9ef72d9df45e439e80ff0047c990ca2e": {
          "model_module": "@jupyter-widgets/base",
          "model_name": "LayoutModel",
          "model_module_version": "1.2.0",
          "state": {
            "_model_module": "@jupyter-widgets/base",
            "_model_module_version": "1.2.0",
            "_model_name": "LayoutModel",
            "_view_count": null,
            "_view_module": "@jupyter-widgets/base",
            "_view_module_version": "1.2.0",
            "_view_name": "LayoutView",
            "align_content": null,
            "align_items": null,
            "align_self": null,
            "border": null,
            "bottom": null,
            "display": null,
            "flex": null,
            "flex_flow": null,
            "grid_area": null,
            "grid_auto_columns": null,
            "grid_auto_flow": null,
            "grid_auto_rows": null,
            "grid_column": null,
            "grid_gap": null,
            "grid_row": null,
            "grid_template_areas": null,
            "grid_template_columns": null,
            "grid_template_rows": null,
            "height": null,
            "justify_content": null,
            "justify_items": null,
            "left": null,
            "margin": null,
            "max_height": null,
            "max_width": null,
            "min_height": null,
            "min_width": null,
            "object_fit": null,
            "object_position": null,
            "order": null,
            "overflow": null,
            "overflow_x": null,
            "overflow_y": null,
            "padding": null,
            "right": null,
            "top": null,
            "visibility": null,
            "width": null
          }
        },
        "1f0a2b534b13451583a3e68337811a41": {
          "model_module": "@jupyter-widgets/controls",
          "model_name": "DescriptionStyleModel",
          "model_module_version": "1.5.0",
          "state": {
            "_model_module": "@jupyter-widgets/controls",
            "_model_module_version": "1.5.0",
            "_model_name": "DescriptionStyleModel",
            "_view_count": null,
            "_view_module": "@jupyter-widgets/base",
            "_view_module_version": "1.2.0",
            "_view_name": "StyleView",
            "description_width": ""
          }
        }
      }
    }
  },
  "nbformat": 4,
  "nbformat_minor": 5
}